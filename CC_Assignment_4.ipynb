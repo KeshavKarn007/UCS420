{
  "nbformat": 4,
  "nbformat_minor": 0,
  "metadata": {
    "colab": {
      "provenance": [],
      "authorship_tag": "ABX9TyNUYEC3uOANzGVIcWjycVk9"
    },
    "kernelspec": {
      "name": "python3",
      "display_name": "Python 3"
    },
    "language_info": {
      "name": "python"
    }
  },
  "cells": [
    {
      "cell_type": "markdown",
      "source": [
        "Q.1 Write a program to create a NumPy 1D-array with 5 elements and perform basic\n",
        "operations like:\n",
        "a) Addition of 2 in all the element\n",
        "b) Multiply 3 with all the elements\n",
        "c) Divide every element by 2"
      ],
      "metadata": {
        "id": "pJl7mLUZdIYb"
      }
    },
    {
      "cell_type": "code",
      "execution_count": 2,
      "metadata": {
        "colab": {
          "base_uri": "https://localhost:8080/"
        },
        "id": "yByapMPkc-uX",
        "outputId": "987341d6-eb7b-4858-878f-d8202b66178e"
      },
      "outputs": [
        {
          "output_type": "stream",
          "name": "stdout",
          "text": [
            "[ 8  8  9 12]\n",
            "[15 15 20 35]\n",
            "[1.         1.         1.33333333 2.33333333]\n"
          ]
        }
      ],
      "source": [
        "import numpy as np\n",
        "a=np.array([3,3,4,7])\n",
        "print(a+5)\n",
        "print(a*5)\n",
        "print(a/3)"
      ]
    },
    {
      "cell_type": "markdown",
      "source": [
        "Q.2 Questions on Basic NumPy Array:\n",
        "a) Reverse the NumPy array: arr = np.array([1, 2, 3, 6, 4, 5])\n",
        "b) Find the most frequent value and their indice(s) in the following arrays:\n",
        "i. x = np.array([1,2,3,4,5,1,2,1,1,1])\n",
        "ii. y = np.array([1, 1, 1, 2, 3, 4, 2, 4, 3, 3, ])"
      ],
      "metadata": {
        "id": "ZyM19mrOdmzs"
      }
    },
    {
      "cell_type": "code",
      "source": [
        "import numpy as np\n",
        "arr = np.array([1, 2, 3, 6, 4, 5])\n",
        "print(arr[::-1])\n",
        "\n",
        "x = np.array([1, 2, 3, 4, 5, 1, 2, 1, 1, 1])\n",
        "values, counts = np.unique(x, return_counts=True)\n",
        "max_count = counts.max()\n",
        "mode_values = values[counts == max_count]\n",
        "\n",
        "# Most frequent value and their indices\n",
        "mode_x = mode_values[0]\n",
        "indices_x = np.where(x == mode_x)[0]\n",
        "print(\"Most frequent values =\", mode_x)\n",
        "print(\"Their values =\", indices_x)\n",
        "\n",
        "y = np.array([1, 1, 1, 2, 3, 4, 2, 4, 3, 3])\n",
        "values, counts = np.unique(y, return_counts=True)\n",
        "max_count = counts.max()\n",
        "mode_values = values[counts == max_count]\n",
        "\n",
        "# Most frequent values and their indices\n",
        "modes_indices_y = [(val, np.where(y == val)[0]) for val in mode_values]\n",
        "print(modes_indices_y)\n",
        "print(mode_values)"
      ],
      "metadata": {
        "colab": {
          "base_uri": "https://localhost:8080/"
        },
        "id": "e9MY5mIEdqAi",
        "outputId": "b32dc0be-cd12-4f64-c370-0ead81c5915a"
      },
      "execution_count": 6,
      "outputs": [
        {
          "output_type": "stream",
          "name": "stdout",
          "text": [
            "[5 4 6 3 2 1]\n",
            "1\n",
            "[0 5 7 8 9]\n",
            "[(1, array([0, 1, 2])), (3, array([4, 8, 9]))]\n",
            "[1 3]\n"
          ]
        }
      ]
    },
    {
      "cell_type": "markdown",
      "source": [
        "Q.3 For the given 2-D array arr=np.array([10, 20, 30], [40, 50, 60], [70, 80, 90]), access\n",
        "elements using row and column indices as follows:\n",
        "a) Access 1st row, 2nd column\n",
        "b) Access 3rd row, 1st column"
      ],
      "metadata": {
        "id": "RxYW3hzif77x"
      }
    },
    {
      "cell_type": "code",
      "source": [
        "import numpy as np\n",
        "\n",
        "arr = np.array([[10, 20, 30], [40, 50, 60], [70, 80, 90]])\n",
        "\n",
        "# a) Access 1st row, 2nd column\n",
        "element_1 = arr[0, 1]  # Accessing element at row index 0 and column index 1\n",
        "print(f\"Element at 1st row, 2nd column: {element_1}\")\n",
        "\n",
        "# b) Access 3rd row, 1st column\n",
        "element_2 = arr[2, 0]  # Accessing element at row index 2 and column index 0\n",
        "print(f\"Element at 3rd row, 1st column: {element_2}\")"
      ],
      "metadata": {
        "colab": {
          "base_uri": "https://localhost:8080/"
        },
        "id": "rrU7OrJ3f_c5",
        "outputId": "dc554ba5-6ae9-49ac-c0a7-e9cc13af1cf5"
      },
      "execution_count": 7,
      "outputs": [
        {
          "output_type": "stream",
          "name": "stdout",
          "text": [
            "Element at 1st row, 2nd column: 20\n",
            "Element at 3rd row, 1st column: 70\n"
          ]
        }
      ]
    },
    {
      "cell_type": "markdown",
      "source": [
        "Q.4 Write program to create an 1-D NumPy array named <<Your Name>> with evenly\n",
        "spaced 25 numbers from 10 to 100 using linspace(). Print the dimensions of the array,\n",
        "shape, total elements, the data type of each element and total number of bytes consumed\n",
        "by the array. Find the transpose of this array using reshape() attribute. Can we do the same\n",
        "with T attribute?"
      ],
      "metadata": {
        "id": "iJ7OxEMAg7kl"
      }
    },
    {
      "cell_type": "code",
      "source": [
        "import numpy as np\n",
        "keshav = np.linspace(10, 100, 25)\n",
        "print(\"Array: \",keshav)\n",
        "print(\"Dimensions: \",keshav.ndim)\n",
        "print(\"Shape: \",keshav.shape)\n",
        "print(\"Total elements: \",keshav.size)\n",
        "print(\"Data type of each element: \",keshav.dtype)\n",
        "print(\"Bytes consumed by the array: \",keshav.nbytes)\n",
        "\n",
        "transpose_array=keshav.reshape(25,1)\n",
        "print(\"Transpose of the array using reshape\\n: \",transpose_array)\n",
        "print(\"Using T attribute: \",keshav.T)\n",
        "print(\"Shape after .T: \",keshav.T.shape)"
      ],
      "metadata": {
        "colab": {
          "base_uri": "https://localhost:8080/"
        },
        "id": "gnL_Tg4Hg8kK",
        "outputId": "05166dae-21b7-4199-bb1e-03d8b677c3b7"
      },
      "execution_count": 9,
      "outputs": [
        {
          "output_type": "stream",
          "name": "stdout",
          "text": [
            "Array:  [ 10.    13.75  17.5   21.25  25.    28.75  32.5   36.25  40.    43.75\n",
            "  47.5   51.25  55.    58.75  62.5   66.25  70.    73.75  77.5   81.25\n",
            "  85.    88.75  92.5   96.25 100.  ]\n",
            "Dimensions:  1\n",
            "Shape:  (25,)\n",
            "Total elements:  25\n",
            "Data type of each element:  float64\n",
            "Bytes consumed by the array:  200\n",
            "Transpose of the array using reshape\n",
            ":  [[ 10.  ]\n",
            " [ 13.75]\n",
            " [ 17.5 ]\n",
            " [ 21.25]\n",
            " [ 25.  ]\n",
            " [ 28.75]\n",
            " [ 32.5 ]\n",
            " [ 36.25]\n",
            " [ 40.  ]\n",
            " [ 43.75]\n",
            " [ 47.5 ]\n",
            " [ 51.25]\n",
            " [ 55.  ]\n",
            " [ 58.75]\n",
            " [ 62.5 ]\n",
            " [ 66.25]\n",
            " [ 70.  ]\n",
            " [ 73.75]\n",
            " [ 77.5 ]\n",
            " [ 81.25]\n",
            " [ 85.  ]\n",
            " [ 88.75]\n",
            " [ 92.5 ]\n",
            " [ 96.25]\n",
            " [100.  ]]\n",
            "Using T attribute:  [ 10.    13.75  17.5   21.25  25.    28.75  32.5   36.25  40.    43.75\n",
            "  47.5   51.25  55.    58.75  62.5   66.25  70.    73.75  77.5   81.25\n",
            "  85.    88.75  92.5   96.25 100.  ]\n",
            "Shape after .T:  (25,)\n"
          ]
        }
      ]
    },
    {
      "cell_type": "markdown",
      "source": [
        "Q5. Create a 2-D Array of three rows and four columns, named ucs420_<your_name>>\n",
        "with following values – 10, 20, 30, 40, 50, 60, 70, 80, 90, 15, 20, 35. Compute the mean,\n",
        "median, max, min, unique elements. Reshape the array to four rows and three columns and\n",
        "name it as reshaped_ ucs420_<your_name>>. Resize the array to two rows and three\n",
        "columns and name it as resized_ ucs420_<your_name>>."
      ],
      "metadata": {
        "id": "R99D4Y4TjELi"
      }
    },
    {
      "cell_type": "code",
      "source": [
        "import numpy as np\n",
        "\n",
        "ucs420_keshav = np.array([[10, 20, 30, 40],\n",
        "                          [50, 60, 70, 80],\n",
        "                          [90, 15, 20, 35]])\n",
        "\n",
        "mean_value = np.mean(ucs420_keshav)\n",
        "median_value = np.median(ucs420_keshav)\n",
        "max_value = np.max(ucs420_keshav)\n",
        "min_value = np.min(ucs420_keshav)\n",
        "unique_elements = np.unique(ucs420_keshav)\n",
        "\n",
        "print(\"Original 2D Array:\\n\", ucs420_keshav)\n",
        "print(\"\\nMean:\", mean_value)\n",
        "print(\"Median:\", median_value)\n",
        "print(\"Max Value:\", max_value)\n",
        "print(\"Min Value:\", min_value)\n",
        "print(\"Unique Elements:\", unique_elements)\n",
        "\n",
        "reshaped_ucs420_keshav = ucs420_keshav.reshape(4, 3)\n",
        "print(\"\\nReshaped (4x3) Array:\\n\", reshaped_ucs420_keshav)\n",
        "\n",
        "resized_ucs420_keshav = np.resize(ucs420_keshav, (2, 3))\n",
        "print(\"\\nResized (2x3) Array:\\n\", resized_ucs420_keshav)\n"
      ],
      "metadata": {
        "colab": {
          "base_uri": "https://localhost:8080/"
        },
        "id": "YsKXO7fjjGcP",
        "outputId": "e0170ac9-9c2c-4515-c20e-102757f08ded"
      },
      "execution_count": 10,
      "outputs": [
        {
          "output_type": "stream",
          "name": "stdout",
          "text": [
            "Original 2D Array:\n",
            " [[10 20 30 40]\n",
            " [50 60 70 80]\n",
            " [90 15 20 35]]\n",
            "\n",
            "Mean: 43.333333333333336\n",
            "Median: 37.5\n",
            "Max Value: 90\n",
            "Min Value: 10\n",
            "Unique Elements: [10 15 20 30 35 40 50 60 70 80 90]\n",
            "\n",
            "Reshaped (4x3) Array:\n",
            " [[10 20 30]\n",
            " [40 50 60]\n",
            " [70 80 90]\n",
            " [15 20 35]]\n",
            "\n",
            "Resized (2x3) Array:\n",
            " [[10 20 30]\n",
            " [40 50 60]]\n"
          ]
        }
      ]
    }
  ]
}