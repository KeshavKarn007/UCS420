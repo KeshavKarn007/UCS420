{
  "nbformat": 4,
  "nbformat_minor": 0,
  "metadata": {
    "colab": {
      "provenance": [],
      "authorship_tag": "ABX9TyOJIUe+TlcsZX26cz4/tTD4"
    },
    "kernelspec": {
      "name": "python3",
      "display_name": "Python 3"
    },
    "language_info": {
      "name": "python"
    }
  },
  "cells": [
    {
      "cell_type": "markdown",
      "source": [
        "**1 Hello World**\n"
      ],
      "metadata": {
        "id": "STs6mXfA_Qyv"
      }
    },
    {
      "cell_type": "code",
      "source": [
        "print (\"Hello World\")"
      ],
      "metadata": {
        "colab": {
          "base_uri": "https://localhost:8080/"
        },
        "id": "Rggab0qZ_U1E",
        "outputId": "517f9b75-39bd-4528-a393-1b4c2a50a11e"
      },
      "execution_count": null,
      "outputs": [
        {
          "output_type": "stream",
          "name": "stdout",
          "text": [
            "Hello World\n"
          ]
        }
      ]
    },
    {
      "cell_type": "markdown",
      "source": [
        "**2.1 Add two numbers**"
      ],
      "metadata": {
        "id": "G86YFjuc_daJ"
      }
    },
    {
      "cell_type": "code",
      "source": [
        "a = 18\n",
        "b = 6\n",
        "c = a + b\n",
        "print (a, \" + \", b, \" = \", c)"
      ],
      "metadata": {
        "colab": {
          "base_uri": "https://localhost:8080/"
        },
        "id": "PIexf3mR_h7P",
        "outputId": "ef8b522f-c53d-47cc-de63-2d3243be881c"
      },
      "execution_count": null,
      "outputs": [
        {
          "output_type": "stream",
          "name": "stdout",
          "text": [
            "18  +  6  =  24\n"
          ]
        }
      ]
    },
    {
      "cell_type": "markdown",
      "source": [
        "**2.2 Concatinate two strings**\n"
      ],
      "metadata": {
        "id": "ep2bXSiR_tBt"
      }
    },
    {
      "cell_type": "code",
      "source": [
        "a = \"Keshav\"\n",
        "b = \"Karn\"\n",
        "c = a + b\n",
        "print (a, \" + \", b, \" = \", c)"
      ],
      "metadata": {
        "colab": {
          "base_uri": "https://localhost:8080/"
        },
        "id": "8-p017Uu_3o9",
        "outputId": "80ccf886-8093-4700-f298-aae49ad64321"
      },
      "execution_count": null,
      "outputs": [
        {
          "output_type": "stream",
          "name": "stdout",
          "text": [
            "Keshav  +  Karn  =  KeshavKarn\n"
          ]
        }
      ]
    },
    {
      "cell_type": "markdown",
      "source": [
        "\n",
        "**2.3 Concatinate string with number**"
      ],
      "metadata": {
        "id": "piMCA4VtAIa4"
      }
    },
    {
      "cell_type": "code",
      "source": [
        "a = \"Keshav\"\n",
        "b = 7\n",
        "c = a + str(b)\n",
        "print (a, \" + \", b, \" = \", c)"
      ],
      "metadata": {
        "colab": {
          "base_uri": "https://localhost:8080/"
        },
        "id": "jkmnyv73ALqT",
        "outputId": "65f6b893-15c5-4256-8dfe-c7b4f293c842"
      },
      "execution_count": null,
      "outputs": [
        {
          "output_type": "stream",
          "name": "stdout",
          "text": [
            "Keshav  +  7  =  Keshav7\n"
          ]
        }
      ]
    },
    {
      "cell_type": "markdown",
      "source": [
        "**3.1 Input two strings from user and concatinate them**\n",
        "\n",
        "\n"
      ],
      "metadata": {
        "id": "vXgiTFFrAWP_"
      }
    },
    {
      "cell_type": "code",
      "source": [
        "a = input(\"Enter First String: \")\n",
        "b = input(\"Enter Second String: \")\n",
        "c = a + b\n",
        "print  (a, \" + \", b, \" = \", c)"
      ],
      "metadata": {
        "id": "TF8D9jqVAaHz"
      },
      "execution_count": null,
      "outputs": []
    },
    {
      "cell_type": "markdown",
      "source": [
        "\n",
        "**3.2 Input two numbers from user and add them**"
      ],
      "metadata": {
        "id": "Pn5zwUbDAp-D"
      }
    },
    {
      "cell_type": "code",
      "source": [
        "a = int(input(\"Enter First No: \"))\n",
        "b = int(input(\"Enter Second No: \"))\n",
        "c = a + b\n",
        "print (a, \" + \", b, \" = \", c)"
      ],
      "metadata": {
        "id": "lQa9k5UCAsyq"
      },
      "execution_count": null,
      "outputs": []
    },
    {
      "cell_type": "markdown",
      "source": [
        "**4.1: WAP to print the table of 7, 9.**"
      ],
      "metadata": {
        "id": "cJRkCUVkCswJ"
      }
    },
    {
      "cell_type": "code",
      "source": [
        "def print_table(num):\n",
        "\n",
        "  print(f\"Multiplication table of {num}:\")\n",
        "  for i in range(1, 11):\n",
        "    print(f\"{num} x {i} = {num * i}\")\n",
        "  print(\"\\n\")\n",
        "\n",
        "# Print the tables for 7 and 9\n",
        "print_table(7)\n",
        "print_table(9)"
      ],
      "metadata": {
        "id": "uAziaOyiCxPi"
      },
      "execution_count": null,
      "outputs": []
    },
    {
      "cell_type": "markdown",
      "source": [
        "**4.2: WAP to print the table of n and n is given by user.**"
      ],
      "metadata": {
        "id": "qT9xYvxdDJcv"
      }
    },
    {
      "cell_type": "code",
      "source": [
        "def print_table(n):\n",
        "\n",
        "  print(f\"Multiplication table of {n}:\")\n",
        "  for i in range(1, 11):\n",
        "    print(f\"{n} x {i} = {n * i}\")\n",
        "  print(\"\\n\")\n",
        "\n",
        "# Get input from the user\n",
        "n = int(input(\"Enter a number: \"))\n",
        "\n",
        "# Print the table\n",
        "print_table(n)"
      ],
      "metadata": {
        "id": "ttqsWqW_DLE8"
      },
      "execution_count": null,
      "outputs": []
    },
    {
      "cell_type": "markdown",
      "source": [
        "**4.3: WAP to add all the numbers from 1 to n and n is given by user.**"
      ],
      "metadata": {
        "id": "PE6oOAlyDQT1"
      }
    },
    {
      "cell_type": "code",
      "source": [
        "def sum_of_numbers(n):\n",
        "\n",
        "  total_sum = 0\n",
        "  for i in range(1, n + 1):\n",
        "    total_sum += i\n",
        "  return total_sum\n",
        "\n",
        "# Get input from the user\n",
        "n = int(input(\"Enter a number: \"))\n",
        "\n",
        "# Calculate and print the sum\n",
        "result = sum_of_numbers(n)\n",
        "print(f\"The sum of numbers from 1 to {n} is: {result}\")"
      ],
      "metadata": {
        "id": "yXkU1HnuDU8X"
      },
      "execution_count": null,
      "outputs": []
    },
    {
      "cell_type": "markdown",
      "source": [
        "**5.1: WAP to find max amoung three numbers and input from user. [Try max() function]**"
      ],
      "metadata": {
        "id": "yAYg5NStDbNS"
      }
    },
    {
      "cell_type": "code",
      "source": [
        "\n",
        "num1 = float(input(\"Enter the first number: \"))\n",
        "num2 = float(input(\"Enter the second number: \"))\n",
        "num3 = float(input(\"Enter the third number: \"))\n",
        "\n",
        "\n",
        "maximum = max(num1, num2, num3)\n",
        "\n",
        "\n",
        "print(\"The maximum number is:\", maximum)"
      ],
      "metadata": {
        "id": "ZO7fA9PwDjMO"
      },
      "execution_count": null,
      "outputs": []
    },
    {
      "cell_type": "markdown",
      "source": [
        "**5.2: WAP to add all numbers divisible by 7 and 9 from 1 to n and n is given by the user.:**"
      ],
      "metadata": {
        "id": "keG_V2h3Duy5"
      }
    },
    {
      "cell_type": "code",
      "source": [
        "n = int(input(\"Enter the value of n: \"))\n",
        "\n",
        "total_sum = 0\n",
        "\n",
        "for i in range(1, n + 1):\n",
        "    if i % 7 == 0 and i % 9 == 0:\n",
        "        total_sum += i\n",
        "\n",
        "print(f\"The sum of all numbers divisible by 7 and 9 from 1 to {n} is: {total_sum}\")\n"
      ],
      "metadata": {
        "id": "PcRbgGg0EppW"
      },
      "execution_count": null,
      "outputs": []
    },
    {
      "cell_type": "markdown",
      "source": [
        "**6.1: WAP using function that add all odd numbers from 1 to n, n is given by the user.**"
      ],
      "metadata": {
        "id": "npJvcfVvEt4R"
      }
    },
    {
      "cell_type": "code",
      "source": [
        "def sum_of_odds(n):\n",
        "    total_sum = 0\n",
        "    for i in range(1, n + 1, 2):\n",
        "        total_sum += i\n",
        "    return total_sum\n",
        "\n",
        "n = int(input(\"Enter the value of n: \"))\n",
        "result = sum_of_odds(n)\n",
        "print(f\"The sum of all odd numbers from 1 to {n} is: {result}\")\n"
      ],
      "metadata": {
        "id": "jInR3r-hEzDw"
      },
      "execution_count": null,
      "outputs": []
    },
    {
      "cell_type": "markdown",
      "source": [
        " **6.2: WAP using function that add all prime numbers from 1 to n, n given by the user.**"
      ],
      "metadata": {
        "id": "g7ZmH4vKE37J"
      }
    },
    {
      "cell_type": "code",
      "source": [
        "def is_prime(num):\n",
        "    if num < 2:\n",
        "        return False\n",
        "    for i in range(2, int(num**0.5) + 1):\n",
        "        if num % i == 0:\n",
        "            return False\n",
        "    return True\n",
        "\n",
        "def sum_of_primes(n):\n",
        "    total_sum = 0\n",
        "    for i in range(1, n + 1):\n",
        "        if is_prime(i):\n",
        "            total_sum += i\n",
        "    return total_sum\n",
        "\n",
        "n = int(input(\"Enter the value of n: \"))\n",
        "result = sum_of_primes(n)\n",
        "print(f\"The sum of all prime numbers from 1 to {n} is: {result}\")\n"
      ],
      "metadata": {
        "id": "exlJpF4PE77B"
      },
      "execution_count": null,
      "outputs": []
    },
    {
      "cell_type": "markdown",
      "source": [
        "**7. Use math library**"
      ],
      "metadata": {
        "id": "b8G9TPSVFq3M"
      }
    },
    {
      "cell_type": "code",
      "source": [
        "import math\n",
        "\n",
        "def is_prime(num):\n",
        "    if num < 2:\n",
        "        return False\n",
        "    for i in range(2, int(math.sqrt(num)) + 1):\n",
        "        if num % i == 0:\n",
        "            return False\n",
        "    return True\n",
        "\n",
        "def sum_of_primes(n):\n",
        "    total_sum = 0\n",
        "    for i in range(1, n + 1):\n",
        "        if is_prime(i):\n",
        "            total_sum += i\n",
        "    return total_sum\n",
        "\n",
        "n = int(input(\"Enter the value of n: \"))\n",
        "result = sum_of_primes(n)\n",
        "print(f\"The sum of all prime numbers from 1 to {n} is: {result}\")\n"
      ],
      "metadata": {
        "id": "bNTJOZ1EF77y"
      },
      "execution_count": null,
      "outputs": []
    },
    {
      "cell_type": "markdown",
      "source": [
        "**8.1 Indexing in string**"
      ],
      "metadata": {
        "id": "OybL1KC-GDF5"
      }
    },
    {
      "cell_type": "code",
      "source": [
        "text = \"Python\"\n",
        "print(text[1:4])\n",
        "print(text[:3])\n",
        "print(text[2:])\n",
        "print(text[::2])"
      ],
      "metadata": {
        "id": "y-u5d6haGEj-"
      },
      "execution_count": null,
      "outputs": []
    },
    {
      "cell_type": "markdown",
      "source": [
        "**8.2 String length, upper, lower**\n"
      ],
      "metadata": {
        "id": "k0Q5RrRJGbNH"
      }
    },
    {
      "cell_type": "code",
      "source": [
        "# Input string\n",
        "text = input(\"Enter a string: \")\n",
        "\n",
        "# String length\n",
        "length = len(text)\n",
        "print(f\"Length of the string: {length}\")\n",
        "\n",
        "# Convert to uppercase\n",
        "uppercase_text = text.upper()\n",
        "print(f\"Uppercase: {uppercase_text}\")\n",
        "\n",
        "# Convert to lowercase\n",
        "lowercase_text = text.lower()\n",
        "print(f\"Lowercase: {lowercase_text}\")\n"
      ],
      "metadata": {
        "id": "nxzco402GdIq"
      },
      "execution_count": null,
      "outputs": []
    },
    {
      "cell_type": "markdown",
      "source": [
        "\n",
        "**8.3 String formatting**"
      ],
      "metadata": {
        "id": "In7iCrGDGom_"
      }
    },
    {
      "cell_type": "code",
      "source": [
        "from string import Template\n",
        "\n",
        "template = Template(\"My name is $name and I am $age years old.\")\n",
        "formatted = template.substitute(name=\"Keshav\", age=18)\n",
        "print(formatted)"
      ],
      "metadata": {
        "id": "loXS_BScGqEq"
      },
      "execution_count": null,
      "outputs": []
    },
    {
      "cell_type": "markdown",
      "source": [
        "\n",
        "**8.4 String in Triple Quotes**"
      ],
      "metadata": {
        "id": "MrR4AtjzHOi1"
      }
    },
    {
      "cell_type": "code",
      "source": [
        "text = \"\"\"This is a multi-line string.\n",
        "It spans across several lines.\n",
        "Triple quotes make it easy!\"\"\"\n",
        "print(text)"
      ],
      "metadata": {
        "id": "r6mMtVgdHNz0"
      },
      "execution_count": null,
      "outputs": []
    },
    {
      "cell_type": "markdown",
      "source": [
        "\n",
        "**8.5 String strip**"
      ],
      "metadata": {
        "id": "tNV4SdqyHSBw"
      }
    },
    {
      "cell_type": "code",
      "source": [
        "text = \"   Hello, World!   \"\n",
        "stripped_text = text.strip()\n",
        "print(f\"'{stripped_text}'\")"
      ],
      "metadata": {
        "id": "5-k0eD9SHUXg"
      },
      "execution_count": null,
      "outputs": []
    },
    {
      "cell_type": "markdown",
      "source": [
        "\n",
        "**8.6 String split**"
      ],
      "metadata": {
        "id": "VW8_A5IIHox2"
      }
    },
    {
      "cell_type": "code",
      "source": [
        "text = \"apple,banana,cherry\"\n",
        "fruits = text.split(\",\")\n",
        "print(fruits)"
      ],
      "metadata": {
        "id": "UKaBCzdNHqPC"
      },
      "execution_count": null,
      "outputs": []
    },
    {
      "cell_type": "markdown",
      "source": [
        "**8.7 Count in string**"
      ],
      "metadata": {
        "id": "k9whExIQH0-y"
      }
    },
    {
      "cell_type": "code",
      "source": [
        "text = \"apple, banana, apple, orange\"\n",
        "count_apple = text.count(\"apple\")\n",
        "print(count_apple)"
      ],
      "metadata": {
        "id": "ED3gfzOmH2RQ"
      },
      "execution_count": null,
      "outputs": []
    },
    {
      "cell_type": "markdown",
      "source": [
        "\n",
        "**8.8 Reverse a String**"
      ],
      "metadata": {
        "id": "aLgrjUj1IItQ"
      }
    },
    {
      "cell_type": "code",
      "source": [
        "text = \"Python\"\n",
        "reversed_text = text[::-1]\n",
        "print(reversed_text)"
      ],
      "metadata": {
        "id": "H18ZpJkbILkn"
      },
      "execution_count": null,
      "outputs": []
    },
    {
      "cell_type": "markdown",
      "source": [
        "\n",
        "**8.9 Palindrome**"
      ],
      "metadata": {
        "id": "Hcxx3qIPIXVG"
      }
    },
    {
      "cell_type": "code",
      "source": [
        "def is_palindrome(text):\n",
        "    return text == text[::-1]\n",
        "\n",
        "# Test\n",
        "text = \"madam\"\n",
        "print(is_palindrome(text))\n",
        "\n",
        "text = \"hello\"\n",
        "print(is_palindrome(text))"
      ],
      "metadata": {
        "id": "uo8MBdTVIY7S"
      },
      "execution_count": null,
      "outputs": []
    },
    {
      "cell_type": "markdown",
      "source": [
        "**9.1 Generate random number between 0 and 1**"
      ],
      "metadata": {
        "id": "1TSMXDGrInll"
      }
    },
    {
      "cell_type": "code",
      "source": [
        "import random\n",
        "\n",
        "# Generate a random number between 0 and 1\n",
        "random_number = random.random()\n",
        "print(random_number)\n"
      ],
      "metadata": {
        "id": "tL-oIS6RIpkf"
      },
      "execution_count": null,
      "outputs": []
    },
    {
      "cell_type": "markdown",
      "source": [
        "\n",
        "**9.2 Generate random integer number**"
      ],
      "metadata": {
        "id": "i_sv1MAzI19B"
      }
    },
    {
      "cell_type": "code",
      "source": [
        "import random\n",
        "\n",
        "# Generate a random integer between 100 and 200\n",
        "random_integer = random.randint(100, 200)\n",
        "print(f\"Random integer between 100 and 200: {random_integer}\")\n"
      ],
      "metadata": {
        "id": "ScAbJai8I3Wa"
      },
      "execution_count": null,
      "outputs": []
    },
    {
      "cell_type": "markdown",
      "source": [
        "**9.3 Generate random real number**"
      ],
      "metadata": {
        "id": "hgtiYKNZJAqJ"
      }
    },
    {
      "cell_type": "code",
      "source": [
        "import random\n",
        "\n",
        "# Generate a random real number between 1 and 10\n",
        "random_real_number = random.uniform(1, 10)\n",
        "print(random_real_number)"
      ],
      "metadata": {
        "id": "VBU5LTlzJDYc"
      },
      "execution_count": null,
      "outputs": []
    },
    {
      "cell_type": "markdown",
      "source": [
        "\n",
        "**9.4 Select sample from a list of elements**"
      ],
      "metadata": {
        "id": "kPMJTewfJK3C"
      }
    },
    {
      "cell_type": "code",
      "source": [
        "import random\n",
        "\n",
        "# Sample 3 elements from a list\n",
        "elements = [1, 2, 3, 4, 5, 6, 7, 8, 9]\n",
        "sample = random.sample(elements, 3)\n",
        "print(sample)\n"
      ],
      "metadata": {
        "id": "7ExeUbPHJRq9"
      },
      "execution_count": null,
      "outputs": []
    },
    {
      "cell_type": "markdown",
      "source": [
        "\n",
        "**9.5 Generate random string**"
      ],
      "metadata": {
        "id": "hQiKwEGSJVnz"
      }
    },
    {
      "cell_type": "code",
      "source": [
        "import random\n",
        "import string\n",
        "\n",
        "def generate_random_string(length=8):\n",
        "    return ''.join(random.choice(string.ascii_letters + string.digits) for _ in range(length))\n",
        "\n",
        "# Test the function\n",
        "random_string = generate_random_string(12)\n",
        "print(f\"Random String: {random_string}\")\n"
      ],
      "metadata": {
        "id": "zRC4E0L7JWxF"
      },
      "execution_count": null,
      "outputs": []
    },
    {
      "cell_type": "markdown",
      "source": [
        "\n",
        "**9.6 Generate random digits**"
      ],
      "metadata": {
        "id": "j6tzPRbhJrHn"
      }
    },
    {
      "cell_type": "code",
      "source": [
        "import random\n",
        "\n",
        "def generate_otp(length=6):\n",
        "    return ''.join([str(random.randint(0, 9)) for _ in range(length)])\n",
        "\n",
        "# Test the function\n",
        "otp = generate_otp(8)  # Generate an 8-digit OTP\n",
        "print(f\"Generated OTP: {otp}\")\n"
      ],
      "metadata": {
        "id": "wyjp27F6JqP_"
      },
      "execution_count": null,
      "outputs": []
    },
    {
      "cell_type": "markdown",
      "source": [
        "**9.7 Generate random string + digits**"
      ],
      "metadata": {
        "id": "vN2-81AfJwVV"
      }
    },
    {
      "cell_type": "code",
      "source": [
        "import random\n",
        "import string\n",
        "\n",
        "def generate_random_string(length=12):\n",
        "    return ''.join(random.choice(string.ascii_letters + string.digits) for _ in range(length))\n",
        "\n",
        "# Generate a random string of length 12\n",
        "random_string = generate_random_string(12)\n",
        "print(f\"Generated random string: {random_string}\")\n"
      ],
      "metadata": {
        "id": "YQfgU91YJ1Hw"
      },
      "execution_count": null,
      "outputs": []
    },
    {
      "cell_type": "markdown",
      "source": [
        "**10.1 Error Generation**"
      ],
      "metadata": {
        "id": "AsfMoFyWKAh1"
      }
    },
    {
      "cell_type": "code",
      "source": [
        "def divide_numbers(a, b):\n",
        "    if b == 0:\n",
        "        raise ZeroDivisionError(\"Cannot divide by zero.\")\n",
        "    return a / b\n",
        "\n",
        "try:\n",
        "    result = divide_numbers(10, 0)\n",
        "except ZeroDivisionError as e:\n",
        "    print(f\"Caught an error: {e}\")\n"
      ],
      "metadata": {
        "id": "x-y4pQw6J_zL"
      },
      "execution_count": null,
      "outputs": []
    },
    {
      "cell_type": "markdown",
      "source": [
        "\n",
        "**10.3 Exception handaling for array out of index**"
      ],
      "metadata": {
        "id": "AvJvvh_SKJcO"
      }
    },
    {
      "cell_type": "code",
      "source": [
        "def access_element(arr, index):\n",
        "    try:\n",
        "\n",
        "        return arr[index]\n",
        "    except IndexError:\n",
        "\n",
        "        print(f\"Error: Index {index} is out of range for the array.\")\n",
        "        return None\n",
        "\n",
        "arr = [10, 20, 30, 40, 50]\n",
        "\n",
        "result = access_element(arr, 10)\n",
        "print(result)\n"
      ],
      "metadata": {
        "id": "kxZ313rJKKyv"
      },
      "execution_count": null,
      "outputs": []
    },
    {
      "cell_type": "markdown",
      "source": [
        "\n",
        "**10.4 Exception handaling for file not found**"
      ],
      "metadata": {
        "id": "Im7AVraBKcDt"
      }
    },
    {
      "cell_type": "code",
      "source": [
        "def read_file(file_path):\n",
        "    try:\n",
        "        # Try to open the file in read mode\n",
        "        with open(file_path, 'r') as file:\n",
        "            content = file.read()\n",
        "            print(content)\n",
        "    except FileNotFoundError:\n",
        "        # Handle the exception if the file is not found\n",
        "        print(f\"Error: The file '{file_path}' was not found.\")\n",
        "    except Exception as e:\n",
        "        # Handle any other unexpected exceptions\n",
        "        print(f\"An unexpected error occurred: {e}\")\n",
        "\n",
        "# Test the function with a file that doesn't exist\n",
        "file_path = 'non_existent_file.txt'\n",
        "read_file(file_path)\n"
      ],
      "metadata": {
        "id": "RNPb8jUfKdZr"
      },
      "execution_count": null,
      "outputs": []
    },
    {
      "cell_type": "markdown",
      "source": [
        "\n",
        "**10.5 Exception handaling for file not found**"
      ],
      "metadata": {
        "id": "YRj0WHJ6K4IJ"
      }
    },
    {
      "cell_type": "code",
      "source": [
        "def read_file(file_path):\n",
        "    try:\n",
        "        # Try to open the file in read mode\n",
        "        with open(file_path, 'r') as file:\n",
        "            content = file.read()\n",
        "            print(content)\n",
        "    except FileNotFoundError:\n",
        "        # Handle the exception if the file is not found\n",
        "        print(f\"Error: The file '{file_path}' was not found.\")\n",
        "    except Exception as e:\n",
        "        # Handle any other unexpected exceptions\n",
        "        print(f\"An unexpected error occurred: {e}\")\n",
        "\n",
        "# Test the function with a file that doesn't exist\n",
        "file_path = 'non_existent_file.txt'\n",
        "read_file(file_path)\n"
      ],
      "metadata": {
        "id": "h7FA0uJRK-6q"
      },
      "execution_count": null,
      "outputs": []
    },
    {
      "cell_type": "markdown",
      "source": [
        "**11.1 List Declaration**"
      ],
      "metadata": {
        "id": "8fEQAFcgLTcR"
      }
    },
    {
      "cell_type": "code",
      "source": [
        "mixed_list = [1, \"apple\", 3.14, True]\n",
        "print(mixed_list)\n"
      ],
      "metadata": {
        "id": "MfkXMD0bLRZh"
      },
      "execution_count": null,
      "outputs": []
    },
    {
      "cell_type": "markdown",
      "source": [
        "**11.2 List Iteration**"
      ],
      "metadata": {
        "id": "1_n8_7aQLcRA"
      }
    },
    {
      "cell_type": "code",
      "source": [
        "fruits = [\"apple\", \"banana\", \"cherry\", \"date\"]\n",
        "\n",
        "for fruit in fruits:\n",
        "    print(fruit)\n"
      ],
      "metadata": {
        "id": "YeaXwN4sLdd-"
      },
      "execution_count": null,
      "outputs": []
    },
    {
      "cell_type": "markdown",
      "source": [
        "**11.3 List Iteration using for loop**\n"
      ],
      "metadata": {
        "id": "Ngp9O-L-LrFd"
      }
    },
    {
      "cell_type": "code",
      "source": [
        "mixed_list = [1, \"apple\", 3.14, True]\n",
        "\n",
        "for item in mixed_list:\n",
        "    print(f\"Item: {item}, Type: {type(item)}\")\n"
      ],
      "metadata": {
        "id": "T15MMYhqLvEC"
      },
      "execution_count": null,
      "outputs": []
    },
    {
      "cell_type": "markdown",
      "source": [
        "**11.4 List Iteration using for loop**\n"
      ],
      "metadata": {
        "id": "DpScSyjQMtpv"
      }
    },
    {
      "cell_type": "code",
      "source": [
        "numbers = [1, 2, 3, 4, 5]\n",
        "\n",
        "for number in numbers:\n",
        "    print(f\"Square of {number} is {number ** 2}\")\n"
      ],
      "metadata": {
        "id": "EcivTI5nMwkU"
      },
      "execution_count": null,
      "outputs": []
    },
    {
      "cell_type": "markdown",
      "source": [
        "**11.5 Adding and deleting from list**\n"
      ],
      "metadata": {
        "id": "0SpCHvAtwYpm"
      }
    },
    {
      "cell_type": "code",
      "source": [
        "L = [\"Keshav\",  'Karn', 34,  14 ]\n",
        "print (\"Original List       = \", L)\n",
        "\n",
        "L.append(\"Ujjwal\")\n",
        "print (\"List After Adding   = \", L)\n",
        "\n",
        "del L[1]\n",
        "print (\"List After Deleting = \", L)"
      ],
      "metadata": {
        "id": "1yBdXIUgwf6I"
      },
      "execution_count": null,
      "outputs": []
    },
    {
      "cell_type": "markdown",
      "source": [
        "**11.6 Sum/Average of List**\n"
      ],
      "metadata": {
        "id": "4CmDBs9vw0CY"
      }
    },
    {
      "cell_type": "code",
      "source": [
        "L=[10, 20, 30, 45, 55, 65, 85]\n",
        "print (\"Original List = \", L)\n",
        "\n",
        "print (\"Sum     = \", sum(L))\n",
        "print (\"Average = \", sum(L)/len(L))\n",
        "print (\"Average = \", sum(L)//len(L))\n",
        "\n",
        "print (\"L * 3   = \", L * 3)\n",
        "print (\"L + L   = \", L + L)"
      ],
      "metadata": {
        "id": "QZg0IfmfxG9x"
      },
      "execution_count": null,
      "outputs": []
    },
    {
      "cell_type": "markdown",
      "source": [
        "**11.7 Min/Max/Sort the list**\n"
      ],
      "metadata": {
        "id": "2kpvPxEcxnGR"
      }
    },
    {
      "cell_type": "code",
      "source": [
        "L=[5, 8, 7, 42, 85, 34, 42]\n",
        "print (\"Original List = \", L)\n",
        "\n",
        "print (\"max = \", max(L))\n",
        "print (\"min = \", min(L))\n",
        "\n",
        "print (\"\\nBefore Sort = \", L)\n",
        "L.sort()\n",
        "\n",
        "print (\"After Sort (Asending)  = \", L)\n",
        "\n",
        "L.sort(reverse=True)\n",
        "print (\"After Sort (Desending) = \", L)"
      ],
      "metadata": {
        "id": "UrfeTexDxqdX"
      },
      "execution_count": null,
      "outputs": []
    },
    {
      "cell_type": "markdown",
      "source": [
        "11.8 Merge lists and select elements\n"
      ],
      "metadata": {
        "id": "KkBvnuksyEhF"
      }
    },
    {
      "cell_type": "code",
      "source": [
        "A1 = [4, 8, 12]\n",
        "A2 = [1, 7, 5, 9]\n",
        "A3 = A1 + A2\n",
        "print(\"A1 --> \", A1)\n",
        "print(\"A2 --> \", A2)\n",
        "print(\"A3 --> \", A3)\n",
        "\n",
        "print(\"\\nA3[1:]  --> \", A3[1:])\n",
        "print(\"A3[1:4] --> \", A3[1:4])\n",
        "print(\"A3[:-2] --> \", A3[:-2])\n",
        "print(\"A3[::3] --> \", A3[::3])"
      ],
      "metadata": {
        "id": "6Pp28I5UyGUL"
      },
      "execution_count": null,
      "outputs": []
    },
    {
      "cell_type": "markdown",
      "source": [
        "**11.9 Multiply all elements of the list by a constant**\n"
      ],
      "metadata": {
        "id": "eQycxMvq0K-0"
      }
    },
    {
      "cell_type": "code",
      "source": [
        "M = [10, 4, 6, 8, 3]\n",
        "print(\"Original List --> \", M)\n",
        "\n",
        "newM = [i + 3 for i in M]\n",
        "print(\"After Adding a constant --> \", newM)\n"
      ],
      "metadata": {
        "id": "L4EW-yng0NSe"
      },
      "execution_count": null,
      "outputs": []
    },
    {
      "cell_type": "markdown",
      "source": [
        "**11.10 Searching in the list**\n"
      ],
      "metadata": {
        "id": "XJC0zZXq0Yex"
      }
    },
    {
      "cell_type": "code",
      "source": [
        "M = [8, 2, 5, 11, 9, 4, 7]\n",
        "print(\"Original List --> \", 5 in M)\n",
        "print(\"Original List --> \", 15 in M)\n",
        "print(\"Original List --> \", 8 in M)\n",
        "\n",
        "if (5 in M) == True:\n",
        "    print(\"Present\")\n",
        "else:\n",
        "    print(\"Not Present\")\n",
        "\n",
        "if 15 in M == False:\n",
        "    print(\"Not Present\")\n",
        "else:\n",
        "    print(\"Present\")\n"
      ],
      "metadata": {
        "id": "AW4gqKKq0dQ-"
      },
      "execution_count": null,
      "outputs": []
    },
    {
      "cell_type": "markdown",
      "source": [
        "**12.1 Declare Dictionary**\n"
      ],
      "metadata": {
        "id": "Yqeef99G0k13"
      }
    },
    {
      "cell_type": "code",
      "source": [
        "Grades = {101: 7.5, 102: 8.3, 103: 6.9, 105: 9.0, 108: 5.8}\n",
        "print(\"Dictionary      --> \", Grades)\n",
        "print(\"Num of elements --> \", len(Grades))\n",
        "\n",
        "print(\"Grade of 101    --> \", Grades[101])\n",
        "print(\"Grade of 103    --> \", Grades[103])\n",
        "print(\"Grade of 105    --> \", Grades[105])\n",
        "\n",
        "# Safely checking for a key to avoid KeyError\n",
        "key = 104\n",
        "if key in Grades:\n",
        "    print(f\"Grade of {key}    --> \", Grades[key])\n",
        "else:\n",
        "    print(f\"Grade of {key}    --> Key not found\")\n"
      ],
      "metadata": {
        "id": "XGz7Vc6V0rjN"
      },
      "execution_count": null,
      "outputs": []
    },
    {
      "cell_type": "markdown",
      "source": [
        "**12.2 Triverse dictionary**\n"
      ],
      "metadata": {
        "id": "AHfhpcI700o7"
      }
    },
    {
      "cell_type": "code",
      "source": [
        "Grades = {101: 7.5, 102: 8.3, 103: 6.9, 105: 9.0, 108: 5.8}\n",
        "for student_id in Grades:\n",
        "    print(\"Grade of\", student_id, \"-->\", Grades[student_id])\n"
      ],
      "metadata": {
        "id": "H7qusgp105PX"
      },
      "execution_count": null,
      "outputs": []
    },
    {
      "cell_type": "markdown",
      "source": [
        "**12.3 Getting Keys and Values**"
      ],
      "metadata": {
        "id": "ZLcdQ0iY1B9_"
      }
    },
    {
      "cell_type": "code",
      "source": [
        "Grades = {101: 7.5, 102: 8.3, 103: 6.9, 105: 9.0, 108: 5.8}\n",
        "print(\"Dictionary --> \", Grades)\n",
        "print(\"Keys       --> \", list(Grades.keys()))\n",
        "print(\"Values     --> \", list(Grades.values()))"
      ],
      "metadata": {
        "id": "SSxfpDI91HrD"
      },
      "execution_count": null,
      "outputs": []
    },
    {
      "cell_type": "markdown",
      "source": [
        "**12.4 Updating, Adding and Deleting from Dictionary**\n"
      ],
      "metadata": {
        "id": "kazu5iJo1OIM"
      }
    },
    {
      "cell_type": "code",
      "source": [
        "Grades = {101: 7.5, 102: 8.3, 103: 6.9, 105: 9.0, 108: 5.8}\n",
        "print(\"Original Dictionary --> \", Grades)\n",
        "\n",
        "Grades[103] = 8.0\n",
        "print(\"After Updating (103) --> \", Grades)\n",
        "\n",
        "Grades[106] = 7.2\n",
        "print(\"After Adding (106)   --> \", Grades)\n",
        "\n",
        "del Grades[101]\n",
        "print(\"After Deleting (101) --> \", Grades)\n",
        "\n",
        "Grades.clear()\n",
        "print(\"After Clear          --> \", Grades)\n",
        "\n",
        "del Grades\n",
        "try:\n",
        "    print(\"After Delete         --> \", Grades)\n",
        "except NameError:\n",
        "    print(\"Grades dictionary no longer exists.\")\n"
      ],
      "metadata": {
        "id": "KpAAm5kJ1SlI"
      },
      "execution_count": null,
      "outputs": []
    },
    {
      "cell_type": "markdown",
      "source": [
        "**12.5 Checking for Key in Dictionary**\n"
      ],
      "metadata": {
        "id": "HDvTWC6z1br8"
      }
    },
    {
      "cell_type": "code",
      "source": [
        "Grades = {101: 7.5, 102: 8.3, 103: 6.9, 105: 9.0, 108: 5.8}\n",
        "print(\"Original Dictionary --> \", Grades)\n",
        "print(\"Is Key 102 Present  --> \", 102 in Grades)\n",
        "print(\"Is Key 110 Present  --> \", 110 in Grades)"
      ],
      "metadata": {
        "id": "eb1KY_-o1eo4"
      },
      "execution_count": null,
      "outputs": []
    },
    {
      "cell_type": "markdown",
      "source": [
        "**13.1 Declare Tuple**\n"
      ],
      "metadata": {
        "id": "MH5R1eM71v5Y"
      }
    },
    {
      "cell_type": "code",
      "source": [
        "T = (\"Squid\", \"Game\", 2.71, 7)\n",
        "\n",
        "print(\"T               -->\", T)\n",
        "print(\"Num of elements -->\", len(T))\n",
        "print(\"Type of Object  -->\", type(T))\n"
      ],
      "metadata": {
        "id": "zRkyFTjN10w-"
      },
      "execution_count": null,
      "outputs": []
    },
    {
      "cell_type": "markdown",
      "source": [
        "**13.2 Tuple Iteration**\n"
      ],
      "metadata": {
        "id": "yi5ge0ln2Hwl"
      }
    },
    {
      "cell_type": "code",
      "source": [
        "T = (\"John\", \"Wick\", 2.71, 7)\n",
        "print(\"T -->\", T)\n",
        "\n",
        "i = 0\n",
        "while i < len(T):\n",
        "    print(T[i])\n",
        "    i += 1"
      ],
      "metadata": {
        "id": "ucgs_48_2K7R"
      },
      "execution_count": null,
      "outputs": []
    },
    {
      "cell_type": "markdown",
      "source": [
        "**13.3 Tuple iteration using for loop**\n"
      ],
      "metadata": {
        "id": "q9Fliz7W2WbB"
      }
    },
    {
      "cell_type": "code",
      "source": [
        "T = (\"Bob\", \"Uncle\", 2.71, 8)\n",
        "print(\"T -->\", T)\n",
        "\n",
        "for i in range(0, len(T)):\n",
        "    print(T[i])\n"
      ],
      "metadata": {
        "id": "VupvsaIX2WCD"
      },
      "execution_count": null,
      "outputs": []
    },
    {
      "cell_type": "markdown",
      "source": [
        "**13.4 Tuple iteration using for loop**"
      ],
      "metadata": {
        "id": "aTomc8c92ler"
      }
    },
    {
      "cell_type": "code",
      "source": [
        "T = (\"Inception\", \"Avatar\", \"Titanic\", \"The Matrix\")\n",
        "print(\"T -->\", T)\n",
        "\n",
        "for movie in T:\n",
        "    print(movie)\n"
      ],
      "metadata": {
        "id": "9G6eFJpZ2oWE"
      },
      "execution_count": null,
      "outputs": []
    },
    {
      "cell_type": "markdown",
      "source": [
        "**13.5 Accessing/Selecting in Tuple**\n"
      ],
      "metadata": {
        "id": "4sxPfrld28AJ"
      }
    },
    {
      "cell_type": "code",
      "source": [
        "T = (2000, 2003, 2008, 2012, 2015, 2018)\n",
        "print(\"T     -->\", T)\n",
        "\n",
        "print(\"T[1]  -->\", T[1])\n",
        "print(\"T[2]  -->\", T[2])\n",
        "print(\"T[-1] -->\", T[-1])\n",
        "print(\"T[-2] -->\", T[-2])\n"
      ],
      "metadata": {
        "id": "O7BZwLQs29yH"
      },
      "execution_count": null,
      "outputs": []
    },
    {
      "cell_type": "markdown",
      "source": [
        "**13.6 Sum/Average of Tuple**"
      ],
      "metadata": {
        "id": "7WwK5k7r34Vu"
      }
    },
    {
      "cell_type": "code",
      "source": [
        "T = (30, 32, 29, 31, 28, 35, 33)\n",
        "print(\"T       -->\", T)\n",
        "print(\"Sum     -->\", sum(T))\n",
        "print(\"Average -->\", sum(T)/len(T))\n",
        "print(\"Average (Integer) -->\", sum(T)//len(T))\n"
      ],
      "metadata": {
        "id": "IoGhg_R336QE"
      },
      "execution_count": null,
      "outputs": []
    },
    {
      "cell_type": "markdown",
      "source": [
        "**13.7 Min/Max in Tuple**"
      ],
      "metadata": {
        "id": "ndnMYl1x4ACH"
      }
    },
    {
      "cell_type": "code",
      "source": [
        "T = (\"India\", \"Australia\", \"Brazil\", \"Canada\")\n",
        "print(\"T   -->\", T)\n",
        "print(\"Max -->\", max(T))\n",
        "print(\"Min -->\", min(T))\n"
      ],
      "metadata": {
        "id": "CKe_Dep-4GIX"
      },
      "execution_count": null,
      "outputs": []
    },
    {
      "cell_type": "markdown",
      "source": [
        "**13.8 Merging Tuples**\n"
      ],
      "metadata": {
        "id": "8ctQeYES4fUP"
      }
    },
    {
      "cell_type": "code",
      "source": [
        "T1 = (4, 7, 10)\n",
        "T2 = (15, 8, 4, 1)\n",
        "\n",
        "print(\"T1 -->\", T1)\n",
        "print(\"T2 -->\", T2)\n",
        "\n",
        "T3 = T1 + T2\n",
        "print(\"T3 -->\", T3)\n",
        "\n",
        "T4 = T1 + T2 + T1 + T2\n",
        "print(\"T4 -->\", T4)"
      ],
      "metadata": {
        "id": "bieQN6c-4ib9"
      },
      "execution_count": null,
      "outputs": []
    },
    {
      "cell_type": "markdown",
      "source": [
        "**13.9 Merging part of Tuples**\n"
      ],
      "metadata": {
        "id": "nfHDn63m4rBH"
      }
    },
    {
      "cell_type": "code",
      "source": [
        "T1 = (3, 6, 9)\n",
        "T2 = (12, 5, 3, 2)\n",
        "\n",
        "print (\"T1 -->\", T1)\n",
        "print (\"T2 -->\", T2)\n",
        "\n",
        "T3 = T1[1:2] + T2[1:3]\n",
        "print (\"T3 -->\", T3)\n",
        "\n",
        "T4 = T1[:-2] + T2[:-3]\n",
        "print (\"T4 -->\", T4)"
      ],
      "metadata": {
        "id": "SjopDvrr4svD"
      },
      "execution_count": null,
      "outputs": []
    },
    {
      "cell_type": "markdown",
      "source": [
        "**13.10 Searching in the tuple**\n"
      ],
      "metadata": {
        "id": "cCxC45-Z4yq8"
      }
    },
    {
      "cell_type": "code",
      "source": [
        "T = (3, 6, 9, 12, 5, 3, 2)\n",
        "print (\"T       -->\", T)\n",
        "\n",
        "print (\"6  in T -->\", 6 in T)\n",
        "print (\"10 in T -->\", 10 in T)\n",
        "print (\"12 in T -->\", 12 in T)"
      ],
      "metadata": {
        "id": "EGap-a6h40__"
      },
      "execution_count": null,
      "outputs": []
    },
    {
      "cell_type": "markdown",
      "source": [
        "**13.12 Adding element to Tuple - (Jugaad)**\n"
      ],
      "metadata": {
        "id": "5uDIDWMo44RN"
      }
    },
    {
      "cell_type": "code",
      "source": [
        "T = (\"Alice\", \"Wonderland\", 2.71, 7)\n",
        "print(\"T         -->\", T)\n",
        "\n",
        "T1 = list(T)\n",
        "T1.append(5.5)\n",
        "T = tuple(T1)\n",
        "\n",
        "print(\"After Add -->\", T)\n"
      ],
      "metadata": {
        "id": "vgoh8TwN5Dpb"
      },
      "execution_count": null,
      "outputs": []
    },
    {
      "cell_type": "markdown",
      "source": [
        "**13.15 Deleting from Tuple - (Jugaad)**\n"
      ],
      "metadata": {
        "id": "XoWwVqyX5RHn"
      }
    },
    {
      "cell_type": "code",
      "source": [
        "T = (\"India\", \"Australia\", \"Brazil\", \"Canada\")\n",
        "print(\"T            -->\", T)\n",
        "\n",
        "T1 = list(T)\n",
        "del T1[1]  # Deleting the element at index 1\n",
        "T = tuple(T1)\n",
        "\n",
        "print(\"After Delete -->\", T)\n"
      ],
      "metadata": {
        "id": "9TH-ovl25S29"
      },
      "execution_count": null,
      "outputs": []
    },
    {
      "cell_type": "markdown",
      "source": [
        "**14.1 Declare Set**"
      ],
      "metadata": {
        "id": "Bzy4Quip5fLD"
      }
    },
    {
      "cell_type": "code",
      "source": [
        "s = set([1, 2, 3, 4, 2, 3])\n",
        "print(\"Original set           --> \", s)\n",
        "print(\"Num of elements in set --> \", len(s))\n"
      ],
      "metadata": {
        "id": "YWm2G8wB5hcJ"
      },
      "execution_count": null,
      "outputs": []
    },
    {
      "cell_type": "markdown",
      "source": [
        "**14.2 Opertions on Sets**\n"
      ],
      "metadata": {
        "id": "uZbcR5dG5mtV"
      }
    },
    {
      "cell_type": "code",
      "source": [
        "a = set([1, 2, 3, 4])\n",
        "b = set([3, 4, 5, 6])\n",
        "print(\"Original set a      --> \", a)\n",
        "print(\"Original set b      --> \", b)\n",
        "print(\"Union of a and b    --> \", a.union(b))\n",
        "print(\"Intersection of a,b --> \", a.intersection(b))\n",
        "print(\"Difference a - b    --> \", a - b)\n",
        "print(\"Difference a - b    --> \", a.difference(b))\n",
        "print(\"Difference b - a    --> \", b - a)\n",
        "print(\"Difference b - a    --> \", b.difference(a))\n",
        "print(\"Symmetric Diff a - b --> \", a.symmetric_difference(b))\n",
        "print(\"Symmetric Diff b - a --> \", b.symmetric_difference(a))\n"
      ],
      "metadata": {
        "id": "oJbEDMXW5qU8"
      },
      "execution_count": null,
      "outputs": []
    },
    {
      "cell_type": "markdown",
      "source": [
        "**14.3 Add, delete, pop element from set**\n"
      ],
      "metadata": {
        "id": "GaGctn-f5z4u"
      }
    },
    {
      "cell_type": "code",
      "source": [
        "a = set(['A', 'B', 'E', 'F' ])\n",
        "print (\"Original set a       --> \", a)\n",
        "a.add(\"D\")\n",
        "print (\"Set After Adding (D) --> \", a)\n",
        "a.add(\"D\")\n",
        "print (\"Set After Adding (D) --> \", a)\n",
        "a.remove(\"D\")\n",
        "print (\"Set After Deleting(D)--> \", a)\n",
        "a.pop()\n",
        "print (\"Set After pop        --> \", a)\n",
        "a.pop()\n",
        "print (\"Set After pop        --> \", a)\n"
      ],
      "metadata": {
        "id": "UIE5RkR251jU"
      },
      "execution_count": null,
      "outputs": []
    },
    {
      "cell_type": "markdown",
      "source": [
        "**15.1 Add two numbers given at cmd line**\n"
      ],
      "metadata": {
        "id": "jIS5ABUp6B0U"
      }
    },
    {
      "cell_type": "code",
      "source": [
        "import sys\n",
        "\n",
        "if len(sys.argv) != 3:\n",
        "    print(\"Usage: python add_two_numbers.py <num1> <num2>\")\n",
        "    sys.exit(1)\n",
        "\n",
        "num1 = float(sys.argv[1])\n",
        "num2 = float(sys.argv[2])\n",
        "\n",
        "result = num1 + num2\n",
        "\n",
        "print(f\"{num1} + {num2} = {result}\")\n"
      ],
      "metadata": {
        "id": "tl0NF7i96Gn9"
      },
      "execution_count": null,
      "outputs": []
    },
    {
      "cell_type": "markdown",
      "source": [
        "**15.2 Concatinate two strings given at cmd line**\n"
      ],
      "metadata": {
        "id": "Kf7pomik6WHD"
      }
    },
    {
      "cell_type": "code",
      "source": [
        "import sys\n",
        "print(sys.argv)  # Prints the list of command-line arguments\n",
        "\n",
        "s = sys.argv[1] + \" \" + sys.argv[2]  # Concatenating the two arguments with a space\n",
        "print(sys.argv[1], \" + \", sys.argv[2], \" --> \", s)\n"
      ],
      "metadata": {
        "id": "uttFfDsi6Xvh"
      },
      "execution_count": null,
      "outputs": []
    },
    {
      "cell_type": "markdown",
      "source": [
        "**15.3 Add all the numbers given at cmd line**\n"
      ],
      "metadata": {
        "id": "YS3F96WG632b"
      }
    },
    {
      "cell_type": "code",
      "source": [
        "\n",
        "import sys\n",
        "print (sys.argv)\n",
        "sum=0\n",
        "for s in sys.argv[1:]:\n",
        "\tsum += int(s)\n",
        "\n",
        "print (\"Sum is --> \", sum)"
      ],
      "metadata": {
        "id": "-Y3VpOup69-Z"
      },
      "execution_count": null,
      "outputs": []
    },
    {
      "cell_type": "markdown",
      "source": [
        "**16.1 Writing 1 to 10 in file**\n"
      ],
      "metadata": {
        "id": "mz76XbIo7Ei_"
      }
    },
    {
      "cell_type": "code",
      "source": [
        "fp = open('result.txt', 'w')\n",
        "for i in range(1, 11):\n",
        "    fp.write(str(i) + \"\\n\")\n",
        "fp.close()\n",
        "\n",
        "print(\"Writing done !! \\nOpen result.txt to view the content\")\n"
      ],
      "metadata": {
        "id": "TcuQdnra7F8Z"
      },
      "execution_count": null,
      "outputs": []
    },
    {
      "cell_type": "markdown",
      "source": [
        "**16.2 Read a file and print its content**\n"
      ],
      "metadata": {
        "id": "1WVl9AtD7Mqv"
      }
    },
    {
      "cell_type": "code",
      "source": [
        "fp = open('result.txt')\n",
        "lines = fp.readlines()\n",
        "for line in lines:\n",
        "    print(line.strip())\n",
        "fp.close()\n"
      ],
      "metadata": {
        "id": "Tg3zS5fe7RH6"
      },
      "execution_count": null,
      "outputs": []
    },
    {
      "cell_type": "markdown",
      "source": [
        "**16.3 Read from one file, Convert it to upper case and write to other file**\n"
      ],
      "metadata": {
        "id": "IDxWVuff7gOO"
      }
    },
    {
      "cell_type": "code",
      "source": [
        "Readfp = open('result.txt')\n",
        "Writefp = open('abc.txt', 'w')\n",
        "\n",
        "for line in Readfp:\n",
        "    Writefp.write(line.upper())\n",
        "\n",
        "Writefp.close()\n",
        "Readfp.close()\n",
        "\n",
        "print(\"Writing done !! \\nOpen abc.txt to view the content\")\n"
      ],
      "metadata": {
        "id": "AgZ01BkM7ih0"
      },
      "execution_count": null,
      "outputs": []
    }
  ]
}