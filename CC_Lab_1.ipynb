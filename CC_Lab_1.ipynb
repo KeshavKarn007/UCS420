{
  "nbformat": 4,
  "nbformat_minor": 0,
  "metadata": {
    "colab": {
      "provenance": [],
      "authorship_tag": "ABX9TyOJIUe+TlcsZX26cz4/tTD4"
    },
    "kernelspec": {
      "name": "python3",
      "display_name": "Python 3"
    },
    "language_info": {
      "name": "python"
    }
  },
  "cells": [
    {
      "cell_type": "markdown",
      "source": [
        "**1 Hello World**\n"
      ],
      "metadata": {
        "id": "STs6mXfA_Qyv"
      }
    },
    {
      "cell_type": "code",
      "source": [
        "print (\"Hello World\")"
      ],
      "metadata": {
        "colab": {
          "base_uri": "https://localhost:8080/"
        },
        "id": "Rggab0qZ_U1E",
        "outputId": "44b63579-3041-4ea2-baa1-d64cea92e777"
      },
      "execution_count": null,
      "outputs": [
        {
          "output_type": "stream",
          "name": "stdout",
          "text": [
            "Hello World\n"
          ]
        }
      ]
    },
    {
      "cell_type": "markdown",
      "source": [
        "**2.1 Add two numbers**"
      ],
      "metadata": {
        "id": "G86YFjuc_daJ"
      }
    },
    {
      "cell_type": "code",
      "source": [
        "a = 18\n",
        "b = 6\n",
        "c = a + b\n",
        "print (a, \" + \", b, \" = \", c)"
      ],
      "metadata": {
        "colab": {
          "base_uri": "https://localhost:8080/"
        },
        "id": "PIexf3mR_h7P",
        "outputId": "c7e3ec0d-6a63-44ca-f817-172724e20d63"
      },
      "execution_count": null,
      "outputs": [
        {
          "output_type": "stream",
          "name": "stdout",
          "text": [
            "18  +  6  =  24\n"
          ]
        }
      ]
    },
    {
      "cell_type": "markdown",
      "source": [
        "**2.2 Concatinate two strings**\n"
      ],
      "metadata": {
        "id": "ep2bXSiR_tBt"
      }
    },
    {
      "cell_type": "code",
      "source": [
        "a = \"Keshav\"\n",
        "b = \"Karn\"\n",
        "c = a + b\n",
        "print (a, \" + \", b, \" = \", c)"
      ],
      "metadata": {
        "colab": {
          "base_uri": "https://localhost:8080/"
        },
        "id": "8-p017Uu_3o9",
        "outputId": "4d295e63-d6fb-4f47-deab-a29a358b7348"
      },
      "execution_count": null,
      "outputs": [
        {
          "output_type": "stream",
          "name": "stdout",
          "text": [
            "Keshav  +  Karn  =  KeshavKarn\n"
          ]
        }
      ]
    },
    {
      "cell_type": "markdown",
      "source": [
        "\n",
        "**2.3 Concatinate string with number**"
      ],
      "metadata": {
        "id": "piMCA4VtAIa4"
      }
    },
    {
      "cell_type": "code",
      "source": [
        "a = \"Keshav\"\n",
        "b = 7\n",
        "c = a + str(b)\n",
        "print (a, \" + \", b, \" = \", c)"
      ],
      "metadata": {
        "colab": {
          "base_uri": "https://localhost:8080/"
        },
        "id": "jkmnyv73ALqT",
        "outputId": "b86cc9e2-785a-473b-82a3-ed5674c7c221"
      },
      "execution_count": null,
      "outputs": [
        {
          "output_type": "stream",
          "name": "stdout",
          "text": [
            "Keshav  +  7  =  Keshav7\n"
          ]
        }
      ]
    },
    {
      "cell_type": "markdown",
      "source": [
        "**3.1 Input two strings from user and concatinate them**\n",
        "\n",
        "\n"
      ],
      "metadata": {
        "id": "vXgiTFFrAWP_"
      }
    },
    {
      "cell_type": "code",
      "source": [
        "a = input(\"Enter First String: \")\n",
        "b = input(\"Enter Second String: \")\n",
        "c = a + b\n",
        "print  (a, \" + \", b, \" = \", c)"
      ],
      "metadata": {
        "colab": {
          "base_uri": "https://localhost:8080/"
        },
        "id": "TF8D9jqVAaHz",
        "outputId": "e9b64d5c-795b-4b26-d96b-09d9c7e74460"
      },
      "execution_count": null,
      "outputs": [
        {
          "output_type": "stream",
          "name": "stdout",
          "text": [
            "Enter First String: Aadar\n",
            "Enter Second String: Mishra\n",
            "Aadar  +  Mishra  =  AadarMishra\n"
          ]
        }
      ]
    },
    {
      "cell_type": "markdown",
      "source": [
        "\n",
        "**3.2 Input two numbers from user and add them**"
      ],
      "metadata": {
        "id": "Pn5zwUbDAp-D"
      }
    },
    {
      "cell_type": "code",
      "source": [
        "a = int(input(\"Enter First No: \"))\n",
        "b = int(input(\"Enter Second No: \"))\n",
        "c = a + b\n",
        "print (a, \" + \", b, \" = \", c)"
      ],
      "metadata": {
        "colab": {
          "base_uri": "https://localhost:8080/"
        },
        "id": "lQa9k5UCAsyq",
        "outputId": "5093c2be-306b-4ae4-d176-4c246088e7d3"
      },
      "execution_count": null,
      "outputs": [
        {
          "output_type": "stream",
          "name": "stdout",
          "text": [
            "Enter First No: 15\n",
            "Enter Second No: 16\n",
            "15  +  16  =  31\n"
          ]
        }
      ]
    },
    {
      "cell_type": "markdown",
      "source": [
        "**4.1: WAP to print the table of 7, 9.**"
      ],
      "metadata": {
        "id": "cJRkCUVkCswJ"
      }
    },
    {
      "cell_type": "code",
      "source": [
        "def print_table(num):\n",
        "\n",
        "  print(f\"Multiplication table of {num}:\")\n",
        "  for i in range(1, 11):\n",
        "    print(f\"{num} x {i} = {num * i}\")\n",
        "  print(\"\\n\")\n",
        "\n",
        "# Print the tables for 7 and 9\n",
        "print_table(7)\n",
        "print_table(9)"
      ],
      "metadata": {
        "colab": {
          "base_uri": "https://localhost:8080/"
        },
        "id": "uAziaOyiCxPi",
        "outputId": "b2caab49-debc-40f0-b7be-3e1f43f4775b"
      },
      "execution_count": null,
      "outputs": [
        {
          "output_type": "stream",
          "name": "stdout",
          "text": [
            "Multiplication table of 7:\n",
            "7 x 1 = 7\n",
            "7 x 2 = 14\n",
            "7 x 3 = 21\n",
            "7 x 4 = 28\n",
            "7 x 5 = 35\n",
            "7 x 6 = 42\n",
            "7 x 7 = 49\n",
            "7 x 8 = 56\n",
            "7 x 9 = 63\n",
            "7 x 10 = 70\n",
            "\n",
            "\n",
            "Multiplication table of 9:\n",
            "9 x 1 = 9\n",
            "9 x 2 = 18\n",
            "9 x 3 = 27\n",
            "9 x 4 = 36\n",
            "9 x 5 = 45\n",
            "9 x 6 = 54\n",
            "9 x 7 = 63\n",
            "9 x 8 = 72\n",
            "9 x 9 = 81\n",
            "9 x 10 = 90\n",
            "\n",
            "\n"
          ]
        }
      ]
    },
    {
      "cell_type": "markdown",
      "source": [
        "**4.2: WAP to print the table of n and n is given by user.**"
      ],
      "metadata": {
        "id": "qT9xYvxdDJcv"
      }
    },
    {
      "cell_type": "code",
      "source": [
        "def print_table(n):\n",
        "\n",
        "  print(f\"Multiplication table of {n}:\")\n",
        "  for i in range(1, 11):\n",
        "    print(f\"{n} x {i} = {n * i}\")\n",
        "  print(\"\\n\")\n",
        "\n",
        "# Get input from the user\n",
        "n = int(input(\"Enter a number: \"))\n",
        "\n",
        "# Print the table\n",
        "print_table(n)"
      ],
      "metadata": {
        "colab": {
          "base_uri": "https://localhost:8080/"
        },
        "id": "ttqsWqW_DLE8",
        "outputId": "0bb8c276-bead-49dd-958d-3bd87b82650c"
      },
      "execution_count": null,
      "outputs": [
        {
          "output_type": "stream",
          "name": "stdout",
          "text": [
            "Enter a number: 6\n",
            "Multiplication table of 6:\n",
            "6 x 1 = 6\n",
            "6 x 2 = 12\n",
            "6 x 3 = 18\n",
            "6 x 4 = 24\n",
            "6 x 5 = 30\n",
            "6 x 6 = 36\n",
            "6 x 7 = 42\n",
            "6 x 8 = 48\n",
            "6 x 9 = 54\n",
            "6 x 10 = 60\n",
            "\n",
            "\n"
          ]
        }
      ]
    },
    {
      "cell_type": "markdown",
      "source": [
        "**4.3: WAP to add all the numbers from 1 to n and n is given by user.**"
      ],
      "metadata": {
        "id": "PE6oOAlyDQT1"
      }
    },
    {
      "cell_type": "code",
      "source": [
        "def sum_of_numbers(n):\n",
        "\n",
        "  total_sum = 0\n",
        "  for i in range(1, n + 1):\n",
        "    total_sum += i\n",
        "  return total_sum\n",
        "\n",
        "# Get input from the user\n",
        "n = int(input(\"Enter a number: \"))\n",
        "\n",
        "# Calculate and print the sum\n",
        "result = sum_of_numbers(n)\n",
        "print(f\"The sum of numbers from 1 to {n} is: {result}\")"
      ],
      "metadata": {
        "colab": {
          "base_uri": "https://localhost:8080/"
        },
        "id": "yXkU1HnuDU8X",
        "outputId": "09f51738-cfbf-4c5f-cbf9-f2ca11d23bf2"
      },
      "execution_count": null,
      "outputs": [
        {
          "output_type": "stream",
          "name": "stdout",
          "text": [
            "Enter a number: 5\n",
            "The sum of numbers from 1 to 5 is: 15\n"
          ]
        }
      ]
    },
    {
      "cell_type": "markdown",
      "source": [
        "**5.1: WAP to find max amoung three numbers and input from user. [Try max() function]**"
      ],
      "metadata": {
        "id": "yAYg5NStDbNS"
      }
    },
    {
      "cell_type": "code",
      "source": [
        "\n",
        "num1 = float(input(\"Enter the first number: \"))\n",
        "num2 = float(input(\"Enter the second number: \"))\n",
        "num3 = float(input(\"Enter the third number: \"))\n",
        "\n",
        "\n",
        "maximum = max(num1, num2, num3)\n",
        "\n",
        "\n",
        "print(\"The maximum number is:\", maximum)"
      ],
      "metadata": {
        "colab": {
          "base_uri": "https://localhost:8080/"
        },
        "id": "ZO7fA9PwDjMO",
        "outputId": "d791838f-0823-4194-a91b-a92e5693f004"
      },
      "execution_count": null,
      "outputs": [
        {
          "output_type": "stream",
          "name": "stdout",
          "text": [
            "Enter the first number: 15\n",
            "Enter the second number: 65\n",
            "Enter the third number: 7\n",
            "The maximum number is: 65.0\n"
          ]
        }
      ]
    },
    {
      "cell_type": "markdown",
      "source": [
        "**5.2: WAP to add all numbers divisible by 7 and 9 from 1 to n and n is given by the user.:**"
      ],
      "metadata": {
        "id": "keG_V2h3Duy5"
      }
    },
    {
      "cell_type": "code",
      "source": [
        "n = int(input(\"Enter the value of n: \"))\n",
        "\n",
        "total_sum = 0\n",
        "\n",
        "for i in range(1, n + 1):\n",
        "    if i % 7 == 0 and i % 9 == 0:\n",
        "        total_sum += i\n",
        "\n",
        "print(f\"The sum of all numbers divisible by 7 and 9 from 1 to {n} is: {total_sum}\")\n"
      ],
      "metadata": {
        "colab": {
          "base_uri": "https://localhost:8080/"
        },
        "id": "PcRbgGg0EppW",
        "outputId": "efcb029b-e68a-4851-ce4a-ebccfc35b318"
      },
      "execution_count": null,
      "outputs": [
        {
          "output_type": "stream",
          "name": "stdout",
          "text": [
            "Enter the value of n: 44\n",
            "The sum of all numbers divisible by 7 and 9 from 1 to 44 is: 0\n"
          ]
        }
      ]
    },
    {
      "cell_type": "markdown",
      "source": [
        "**6.1: WAP using function that add all odd numbers from 1 to n, n is given by the user.**"
      ],
      "metadata": {
        "id": "npJvcfVvEt4R"
      }
    },
    {
      "cell_type": "code",
      "source": [
        "def sum_of_odds(n):\n",
        "    total_sum = 0\n",
        "    for i in range(1, n + 1, 2):\n",
        "        total_sum += i\n",
        "    return total_sum\n",
        "\n",
        "n = int(input(\"Enter the value of n: \"))\n",
        "result = sum_of_odds(n)\n",
        "print(f\"The sum of all odd numbers from 1 to {n} is: {result}\")\n"
      ],
      "metadata": {
        "colab": {
          "base_uri": "https://localhost:8080/"
        },
        "id": "jInR3r-hEzDw",
        "outputId": "96be728a-bdaf-42d9-aad0-29ab19cd13ae"
      },
      "execution_count": null,
      "outputs": [
        {
          "output_type": "stream",
          "name": "stdout",
          "text": [
            "Enter the value of n: 45\n",
            "The sum of all odd numbers from 1 to 45 is: 529\n"
          ]
        }
      ]
    },
    {
      "cell_type": "markdown",
      "source": [
        " **6.2: WAP using function that add all prime numbers from 1 to n, n given by the user.**"
      ],
      "metadata": {
        "id": "g7ZmH4vKE37J"
      }
    },
    {
      "cell_type": "code",
      "source": [
        "def is_prime(num):\n",
        "    if num < 2:\n",
        "        return False\n",
        "    for i in range(2, int(num**0.5) + 1):\n",
        "        if num % i == 0:\n",
        "            return False\n",
        "    return True\n",
        "\n",
        "def sum_of_primes(n):\n",
        "    total_sum = 0\n",
        "    for i in range(1, n + 1):\n",
        "        if is_prime(i):\n",
        "            total_sum += i\n",
        "    return total_sum\n",
        "\n",
        "n = int(input(\"Enter the value of n: \"))\n",
        "result = sum_of_primes(n)\n",
        "print(f\"The sum of all prime numbers from 1 to {n} is: {result}\")\n"
      ],
      "metadata": {
        "colab": {
          "base_uri": "https://localhost:8080/"
        },
        "id": "exlJpF4PE77B",
        "outputId": "fe6d5bbc-4221-4065-da4a-2359d13b162c"
      },
      "execution_count": null,
      "outputs": [
        {
          "output_type": "stream",
          "name": "stdout",
          "text": [
            "Enter the value of n: 5\n",
            "The sum of all prime numbers from 1 to 5 is: 10\n"
          ]
        }
      ]
    },
    {
      "cell_type": "markdown",
      "source": [
        "**7. Use math library**"
      ],
      "metadata": {
        "id": "b8G9TPSVFq3M"
      }
    },
    {
      "cell_type": "code",
      "source": [
        "import math\n",
        "\n",
        "def is_prime(num):\n",
        "    if num < 2:\n",
        "        return False\n",
        "    for i in range(2, int(math.sqrt(num)) + 1):\n",
        "        if num % i == 0:\n",
        "            return False\n",
        "    return True\n",
        "\n",
        "def sum_of_primes(n):\n",
        "    total_sum = 0\n",
        "    for i in range(1, n + 1):\n",
        "        if is_prime(i):\n",
        "            total_sum += i\n",
        "    return total_sum\n",
        "\n",
        "n = int(input(\"Enter the value of n: \"))\n",
        "result = sum_of_primes(n)\n",
        "print(f\"The sum of all prime numbers from 1 to {n} is: {result}\")\n"
      ],
      "metadata": {
        "colab": {
          "base_uri": "https://localhost:8080/"
        },
        "id": "bNTJOZ1EF77y",
        "outputId": "a0f377e3-5334-4457-e965-e9799551cbbb"
      },
      "execution_count": null,
      "outputs": [
        {
          "output_type": "stream",
          "name": "stdout",
          "text": [
            "Enter the value of n: 5\n",
            "The sum of all prime numbers from 1 to 5 is: 10\n"
          ]
        }
      ]
    },
    {
      "cell_type": "markdown",
      "source": [
        "**8.1 Indexing in string**"
      ],
      "metadata": {
        "id": "OybL1KC-GDF5"
      }
    },
    {
      "cell_type": "code",
      "source": [
        "text = \"Python\"\n",
        "print(text[1:4])\n",
        "print(text[:3])\n",
        "print(text[2:])\n",
        "print(text[::2])"
      ],
      "metadata": {
        "colab": {
          "base_uri": "https://localhost:8080/"
        },
        "id": "y-u5d6haGEj-",
        "outputId": "8a4750fa-1681-4d4d-9293-d9ed75eb4b60"
      },
      "execution_count": null,
      "outputs": [
        {
          "output_type": "stream",
          "name": "stdout",
          "text": [
            "yth\n",
            "Pyt\n",
            "thon\n",
            "Pto\n"
          ]
        }
      ]
    },
    {
      "cell_type": "markdown",
      "source": [
        "**8.2 String length, upper, lower**\n"
      ],
      "metadata": {
        "id": "k0Q5RrRJGbNH"
      }
    },
    {
      "cell_type": "code",
      "source": [
        "# Input string\n",
        "text = input(\"Enter a string: \")\n",
        "\n",
        "# String length\n",
        "length = len(text)\n",
        "print(f\"Length of the string: {length}\")\n",
        "\n",
        "# Convert to uppercase\n",
        "uppercase_text = text.upper()\n",
        "print(f\"Uppercase: {uppercase_text}\")\n",
        "\n",
        "# Convert to lowercase\n",
        "lowercase_text = text.lower()\n",
        "print(f\"Lowercase: {lowercase_text}\")\n"
      ],
      "metadata": {
        "colab": {
          "base_uri": "https://localhost:8080/"
        },
        "id": "nxzco402GdIq",
        "outputId": "5c678606-b39f-4223-90ce-797cea6c5756"
      },
      "execution_count": null,
      "outputs": [
        {
          "output_type": "stream",
          "name": "stdout",
          "text": [
            "Enter a string: Keshav\n",
            "Length of the string: 6\n",
            "Uppercase: KESHAV\n",
            "Lowercase: keshav\n"
          ]
        }
      ]
    },
    {
      "cell_type": "markdown",
      "source": [
        "\n",
        "**8.3 String formatting**"
      ],
      "metadata": {
        "id": "In7iCrGDGom_"
      }
    },
    {
      "cell_type": "code",
      "source": [
        "from string import Template\n",
        "\n",
        "template = Template(\"My name is $name and I am $age years old.\")\n",
        "formatted = template.substitute(name=\"Keshav\", age=18)\n",
        "print(formatted)"
      ],
      "metadata": {
        "colab": {
          "base_uri": "https://localhost:8080/"
        },
        "id": "loXS_BScGqEq",
        "outputId": "c6e7c343-f9d5-4bcb-e251-c919a8f6893f"
      },
      "execution_count": null,
      "outputs": [
        {
          "output_type": "stream",
          "name": "stdout",
          "text": [
            "My name is Keshav and I am 18 years old.\n"
          ]
        }
      ]
    },
    {
      "cell_type": "markdown",
      "source": [
        "\n",
        "**8.4 String in Triple Quotes**"
      ],
      "metadata": {
        "id": "MrR4AtjzHOi1"
      }
    },
    {
      "cell_type": "code",
      "source": [
        "text = \"\"\"This is a multi-line string.\n",
        "It spans across several lines.\n",
        "Triple quotes make it easy!\"\"\"\n",
        "print(text)"
      ],
      "metadata": {
        "colab": {
          "base_uri": "https://localhost:8080/"
        },
        "id": "r6mMtVgdHNz0",
        "outputId": "58a4f97f-4df8-4f77-8ca5-221229b8ef6d"
      },
      "execution_count": null,
      "outputs": [
        {
          "output_type": "stream",
          "name": "stdout",
          "text": [
            "This is a multi-line string.\n",
            "It spans across several lines.\n",
            "Triple quotes make it easy!\n"
          ]
        }
      ]
    },
    {
      "cell_type": "markdown",
      "source": [
        "\n",
        "**8.5 String strip**"
      ],
      "metadata": {
        "id": "tNV4SdqyHSBw"
      }
    },
    {
      "cell_type": "code",
      "source": [
        "text = \"   Hello, World!   \"\n",
        "stripped_text = text.strip()\n",
        "print(f\"'{stripped_text}'\")"
      ],
      "metadata": {
        "colab": {
          "base_uri": "https://localhost:8080/"
        },
        "id": "5-k0eD9SHUXg",
        "outputId": "c3ca33bb-f674-4985-8aca-0ca0fb5fd77a"
      },
      "execution_count": null,
      "outputs": [
        {
          "output_type": "stream",
          "name": "stdout",
          "text": [
            "'Hello, World!'\n"
          ]
        }
      ]
    },
    {
      "cell_type": "markdown",
      "source": [
        "\n",
        "**8.6 String split**"
      ],
      "metadata": {
        "id": "VW8_A5IIHox2"
      }
    },
    {
      "cell_type": "code",
      "source": [
        "text = \"apple,banana,cherry\"\n",
        "fruits = text.split(\",\")\n",
        "print(fruits)"
      ],
      "metadata": {
        "colab": {
          "base_uri": "https://localhost:8080/"
        },
        "id": "UKaBCzdNHqPC",
        "outputId": "e1e8adf0-6938-4501-8a11-6f35d296e121"
      },
      "execution_count": null,
      "outputs": [
        {
          "output_type": "stream",
          "name": "stdout",
          "text": [
            "['apple', 'banana', 'cherry']\n"
          ]
        }
      ]
    },
    {
      "cell_type": "markdown",
      "source": [
        "**8.7 Count in string**"
      ],
      "metadata": {
        "id": "k9whExIQH0-y"
      }
    },
    {
      "cell_type": "code",
      "source": [
        "text = \"apple, banana, apple, orange\"\n",
        "count_apple = text.count(\"apple\")\n",
        "print(count_apple)"
      ],
      "metadata": {
        "colab": {
          "base_uri": "https://localhost:8080/"
        },
        "id": "ED3gfzOmH2RQ",
        "outputId": "366aea03-7023-4d00-857b-cbaec462ce41"
      },
      "execution_count": null,
      "outputs": [
        {
          "output_type": "stream",
          "name": "stdout",
          "text": [
            "2\n"
          ]
        }
      ]
    },
    {
      "cell_type": "markdown",
      "source": [
        "\n",
        "**8.8 Reverse a String**"
      ],
      "metadata": {
        "id": "aLgrjUj1IItQ"
      }
    },
    {
      "cell_type": "code",
      "source": [
        "text = \"Python\"\n",
        "reversed_text = text[::-1]\n",
        "print(reversed_text)"
      ],
      "metadata": {
        "colab": {
          "base_uri": "https://localhost:8080/"
        },
        "id": "H18ZpJkbILkn",
        "outputId": "8da5ee48-f0ec-4016-cd2f-5fd82e600227"
      },
      "execution_count": null,
      "outputs": [
        {
          "output_type": "stream",
          "name": "stdout",
          "text": [
            "nohtyP\n"
          ]
        }
      ]
    },
    {
      "cell_type": "markdown",
      "source": [
        "\n",
        "**8.9 Palindrome**"
      ],
      "metadata": {
        "id": "Hcxx3qIPIXVG"
      }
    },
    {
      "cell_type": "code",
      "source": [
        "def is_palindrome(text):\n",
        "    return text == text[::-1]\n",
        "\n",
        "# Test\n",
        "text = \"madam\"\n",
        "print(is_palindrome(text))\n",
        "\n",
        "text = \"hello\"\n",
        "print(is_palindrome(text))"
      ],
      "metadata": {
        "colab": {
          "base_uri": "https://localhost:8080/"
        },
        "id": "uo8MBdTVIY7S",
        "outputId": "cbc8ff8b-7ca1-47d6-aa02-0b478119a907"
      },
      "execution_count": null,
      "outputs": [
        {
          "output_type": "stream",
          "name": "stdout",
          "text": [
            "True\n",
            "False\n"
          ]
        }
      ]
    },
    {
      "cell_type": "markdown",
      "source": [
        "**9.1 Generate random number between 0 and 1**"
      ],
      "metadata": {
        "id": "1TSMXDGrInll"
      }
    },
    {
      "cell_type": "code",
      "source": [
        "import random\n",
        "\n",
        "# Generate a random number between 0 and 1\n",
        "random_number = random.random()\n",
        "print(random_number)\n"
      ],
      "metadata": {
        "colab": {
          "base_uri": "https://localhost:8080/"
        },
        "id": "tL-oIS6RIpkf",
        "outputId": "9b1eef66-beae-4a66-b8e9-dcce47893e5c"
      },
      "execution_count": null,
      "outputs": [
        {
          "output_type": "stream",
          "name": "stdout",
          "text": [
            "0.38451829502183055\n"
          ]
        }
      ]
    },
    {
      "cell_type": "markdown",
      "source": [
        "\n",
        "**9.2 Generate random integer number**"
      ],
      "metadata": {
        "id": "i_sv1MAzI19B"
      }
    },
    {
      "cell_type": "code",
      "source": [
        "import random\n",
        "\n",
        "# Generate a random integer between 100 and 200\n",
        "random_integer = random.randint(100, 200)\n",
        "print(f\"Random integer between 100 and 200: {random_integer}\")\n"
      ],
      "metadata": {
        "colab": {
          "base_uri": "https://localhost:8080/"
        },
        "id": "ScAbJai8I3Wa",
        "outputId": "4e8d4a90-76e2-4712-ce8b-707dc94309ce"
      },
      "execution_count": null,
      "outputs": [
        {
          "output_type": "stream",
          "name": "stdout",
          "text": [
            "Random integer between 100 and 200: 181\n"
          ]
        }
      ]
    },
    {
      "cell_type": "markdown",
      "source": [
        "**9.3 Generate random real number**"
      ],
      "metadata": {
        "id": "hgtiYKNZJAqJ"
      }
    },
    {
      "cell_type": "code",
      "source": [
        "import random\n",
        "\n",
        "# Generate a random real number between 1 and 10\n",
        "random_real_number = random.uniform(1, 10)\n",
        "print(random_real_number)"
      ],
      "metadata": {
        "colab": {
          "base_uri": "https://localhost:8080/"
        },
        "id": "VBU5LTlzJDYc",
        "outputId": "ac503079-2461-4093-bda4-2cc12e9b87ea"
      },
      "execution_count": null,
      "outputs": [
        {
          "output_type": "stream",
          "name": "stdout",
          "text": [
            "3.1974219667593515\n"
          ]
        }
      ]
    },
    {
      "cell_type": "markdown",
      "source": [
        "\n",
        "**9.4 Select sample from a list of elements**"
      ],
      "metadata": {
        "id": "kPMJTewfJK3C"
      }
    },
    {
      "cell_type": "code",
      "source": [
        "import random\n",
        "\n",
        "# Sample 3 elements from a list\n",
        "elements = [1, 2, 3, 4, 5, 6, 7, 8, 9]\n",
        "sample = random.sample(elements, 3)\n",
        "print(sample)\n"
      ],
      "metadata": {
        "colab": {
          "base_uri": "https://localhost:8080/"
        },
        "id": "7ExeUbPHJRq9",
        "outputId": "3b0b8479-d430-4bf5-8840-c57173709cfd"
      },
      "execution_count": null,
      "outputs": [
        {
          "output_type": "stream",
          "name": "stdout",
          "text": [
            "[1, 7, 2]\n"
          ]
        }
      ]
    },
    {
      "cell_type": "markdown",
      "source": [
        "\n",
        "**9.5 Generate random string**"
      ],
      "metadata": {
        "id": "hQiKwEGSJVnz"
      }
    },
    {
      "cell_type": "code",
      "source": [
        "import random\n",
        "import string\n",
        "\n",
        "def generate_random_string(length=8):\n",
        "    return ''.join(random.choice(string.ascii_letters + string.digits) for _ in range(length))\n",
        "\n",
        "# Test the function\n",
        "random_string = generate_random_string(12)\n",
        "print(f\"Random String: {random_string}\")\n"
      ],
      "metadata": {
        "colab": {
          "base_uri": "https://localhost:8080/"
        },
        "id": "zRC4E0L7JWxF",
        "outputId": "8a61cde6-9f40-480a-b4a9-2c9d3513b075"
      },
      "execution_count": null,
      "outputs": [
        {
          "output_type": "stream",
          "name": "stdout",
          "text": [
            "Random String: quzksE5ENgZa\n"
          ]
        }
      ]
    },
    {
      "cell_type": "markdown",
      "source": [
        "\n",
        "**9.6 Generate random digits**"
      ],
      "metadata": {
        "id": "j6tzPRbhJrHn"
      }
    },
    {
      "cell_type": "code",
      "source": [
        "import random\n",
        "\n",
        "def generate_otp(length=6):\n",
        "    return ''.join([str(random.randint(0, 9)) for _ in range(length)])\n",
        "\n",
        "# Test the function\n",
        "otp = generate_otp(8)  # Generate an 8-digit OTP\n",
        "print(f\"Generated OTP: {otp}\")\n"
      ],
      "metadata": {
        "colab": {
          "base_uri": "https://localhost:8080/"
        },
        "id": "wyjp27F6JqP_",
        "outputId": "c609a960-8a0a-435f-948b-da632181fbe8"
      },
      "execution_count": null,
      "outputs": [
        {
          "output_type": "stream",
          "name": "stdout",
          "text": [
            "Generated OTP: 70126459\n"
          ]
        }
      ]
    },
    {
      "cell_type": "markdown",
      "source": [
        "**9.7 Generate random string + digits**"
      ],
      "metadata": {
        "id": "vN2-81AfJwVV"
      }
    },
    {
      "cell_type": "code",
      "source": [
        "import random\n",
        "import string\n",
        "\n",
        "def generate_random_string(length=12):\n",
        "    return ''.join(random.choice(string.ascii_letters + string.digits) for _ in range(length))\n",
        "\n",
        "# Generate a random string of length 12\n",
        "random_string = generate_random_string(12)\n",
        "print(f\"Generated random string: {random_string}\")\n"
      ],
      "metadata": {
        "colab": {
          "base_uri": "https://localhost:8080/"
        },
        "id": "YQfgU91YJ1Hw",
        "outputId": "640644d2-07a5-42c4-ed76-8a1656f595df"
      },
      "execution_count": null,
      "outputs": [
        {
          "output_type": "stream",
          "name": "stdout",
          "text": [
            "Generated random string: S79qJTysP150\n"
          ]
        }
      ]
    },
    {
      "cell_type": "markdown",
      "source": [
        "**10.1 Error Generation**"
      ],
      "metadata": {
        "id": "AsfMoFyWKAh1"
      }
    },
    {
      "cell_type": "code",
      "source": [
        "def divide_numbers(a, b):\n",
        "    if b == 0:\n",
        "        raise ZeroDivisionError(\"Cannot divide by zero.\")\n",
        "    return a / b\n",
        "\n",
        "try:\n",
        "    result = divide_numbers(10, 0)\n",
        "except ZeroDivisionError as e:\n",
        "    print(f\"Caught an error: {e}\")\n"
      ],
      "metadata": {
        "colab": {
          "base_uri": "https://localhost:8080/"
        },
        "id": "x-y4pQw6J_zL",
        "outputId": "14101873-9072-4309-8d33-3fdc039216cb"
      },
      "execution_count": null,
      "outputs": [
        {
          "output_type": "stream",
          "name": "stdout",
          "text": [
            "Caught an error: Cannot divide by zero.\n"
          ]
        }
      ]
    },
    {
      "cell_type": "markdown",
      "source": [
        "\n",
        "**10.3 Exception handaling for array out of index**"
      ],
      "metadata": {
        "id": "AvJvvh_SKJcO"
      }
    },
    {
      "cell_type": "code",
      "source": [
        "def access_element(arr, index):\n",
        "    try:\n",
        "\n",
        "        return arr[index]\n",
        "    except IndexError:\n",
        "\n",
        "        print(f\"Error: Index {index} is out of range for the array.\")\n",
        "        return None\n",
        "\n",
        "arr = [10, 20, 30, 40, 50]\n",
        "\n",
        "result = access_element(arr, 10)\n",
        "print(result)\n"
      ],
      "metadata": {
        "colab": {
          "base_uri": "https://localhost:8080/"
        },
        "id": "kxZ313rJKKyv",
        "outputId": "0ecc0df4-3a86-42e5-bfb3-11e92286c990"
      },
      "execution_count": null,
      "outputs": [
        {
          "output_type": "stream",
          "name": "stdout",
          "text": [
            "Error: Index 10 is out of range for the array.\n",
            "None\n"
          ]
        }
      ]
    },
    {
      "cell_type": "markdown",
      "source": [
        "\n",
        "**10.4 Exception handaling for file not found**"
      ],
      "metadata": {
        "id": "Im7AVraBKcDt"
      }
    },
    {
      "cell_type": "code",
      "source": [
        "def read_file(file_path):\n",
        "    try:\n",
        "        # Try to open the file in read mode\n",
        "        with open(file_path, 'r') as file:\n",
        "            content = file.read()\n",
        "            print(content)\n",
        "    except FileNotFoundError:\n",
        "        # Handle the exception if the file is not found\n",
        "        print(f\"Error: The file '{file_path}' was not found.\")\n",
        "    except Exception as e:\n",
        "        # Handle any other unexpected exceptions\n",
        "        print(f\"An unexpected error occurred: {e}\")\n",
        "\n",
        "# Test the function with a file that doesn't exist\n",
        "file_path = 'non_existent_file.txt'\n",
        "read_file(file_path)\n"
      ],
      "metadata": {
        "colab": {
          "base_uri": "https://localhost:8080/"
        },
        "id": "RNPb8jUfKdZr",
        "outputId": "58f43e99-d266-43cb-fe25-308aab75cd96"
      },
      "execution_count": null,
      "outputs": [
        {
          "output_type": "stream",
          "name": "stdout",
          "text": [
            "Error: The file 'non_existent_file.txt' was not found.\n"
          ]
        }
      ]
    },
    {
      "cell_type": "markdown",
      "source": [
        "\n",
        "**10.5 Exception handaling for file not found**"
      ],
      "metadata": {
        "id": "YRj0WHJ6K4IJ"
      }
    },
    {
      "cell_type": "code",
      "source": [
        "def read_file(file_path):\n",
        "    try:\n",
        "        # Try to open the file in read mode\n",
        "        with open(file_path, 'r') as file:\n",
        "            content = file.read()\n",
        "            print(content)\n",
        "    except FileNotFoundError:\n",
        "        # Handle the exception if the file is not found\n",
        "        print(f\"Error: The file '{file_path}' was not found.\")\n",
        "    except Exception as e:\n",
        "        # Handle any other unexpected exceptions\n",
        "        print(f\"An unexpected error occurred: {e}\")\n",
        "\n",
        "# Test the function with a file that doesn't exist\n",
        "file_path = 'non_existent_file.txt'\n",
        "read_file(file_path)\n"
      ],
      "metadata": {
        "colab": {
          "base_uri": "https://localhost:8080/"
        },
        "id": "h7FA0uJRK-6q",
        "outputId": "81471db2-39e8-4bf1-eff7-dc3dd26890bd"
      },
      "execution_count": null,
      "outputs": [
        {
          "output_type": "stream",
          "name": "stdout",
          "text": [
            "Error: The file 'non_existent_file.txt' was not found.\n"
          ]
        }
      ]
    },
    {
      "cell_type": "markdown",
      "source": [
        "**11.1 List Declaration**"
      ],
      "metadata": {
        "id": "8fEQAFcgLTcR"
      }
    },
    {
      "cell_type": "code",
      "source": [
        "mixed_list = [1, \"apple\", 3.14, True]\n",
        "print(mixed_list)\n"
      ],
      "metadata": {
        "colab": {
          "base_uri": "https://localhost:8080/"
        },
        "id": "MfkXMD0bLRZh",
        "outputId": "ac3609e7-3482-49a1-d478-cabee3fe1c7a"
      },
      "execution_count": null,
      "outputs": [
        {
          "output_type": "stream",
          "name": "stdout",
          "text": [
            "[1, 'apple', 3.14, True]\n"
          ]
        }
      ]
    },
    {
      "cell_type": "markdown",
      "source": [
        "**11.2 List Iteration**"
      ],
      "metadata": {
        "id": "1_n8_7aQLcRA"
      }
    },
    {
      "cell_type": "code",
      "source": [
        "fruits = [\"apple\", \"banana\", \"cherry\", \"date\"]\n",
        "\n",
        "for fruit in fruits:\n",
        "    print(fruit)\n"
      ],
      "metadata": {
        "colab": {
          "base_uri": "https://localhost:8080/"
        },
        "id": "YeaXwN4sLdd-",
        "outputId": "076e7b0b-6ecc-44f5-a5af-537121545640"
      },
      "execution_count": null,
      "outputs": [
        {
          "output_type": "stream",
          "name": "stdout",
          "text": [
            "apple\n",
            "banana\n",
            "cherry\n",
            "date\n"
          ]
        }
      ]
    },
    {
      "cell_type": "markdown",
      "source": [
        "**11.3 List Iteration using for loop**\n"
      ],
      "metadata": {
        "id": "Ngp9O-L-LrFd"
      }
    },
    {
      "cell_type": "code",
      "source": [
        "mixed_list = [1, \"apple\", 3.14, True]\n",
        "\n",
        "for item in mixed_list:\n",
        "    print(f\"Item: {item}, Type: {type(item)}\")\n"
      ],
      "metadata": {
        "colab": {
          "base_uri": "https://localhost:8080/"
        },
        "id": "T15MMYhqLvEC",
        "outputId": "c932017c-b3b5-49d7-f322-d901b2f36e8b"
      },
      "execution_count": null,
      "outputs": [
        {
          "output_type": "stream",
          "name": "stdout",
          "text": [
            "Item: 1, Type: <class 'int'>\n",
            "Item: apple, Type: <class 'str'>\n",
            "Item: 3.14, Type: <class 'float'>\n",
            "Item: True, Type: <class 'bool'>\n"
          ]
        }
      ]
    },
    {
      "cell_type": "markdown",
      "source": [
        "**11.4 List Iteration using for loop**\n"
      ],
      "metadata": {
        "id": "DpScSyjQMtpv"
      }
    },
    {
      "cell_type": "code",
      "source": [
        "numbers = [1, 2, 3, 4, 5]\n",
        "\n",
        "for number in numbers:\n",
        "    print(f\"Square of {number} is {number ** 2}\")\n"
      ],
      "metadata": {
        "colab": {
          "base_uri": "https://localhost:8080/"
        },
        "id": "EcivTI5nMwkU",
        "outputId": "3ba821d5-740e-4232-9b05-cf2f3d24e285"
      },
      "execution_count": null,
      "outputs": [
        {
          "output_type": "stream",
          "name": "stdout",
          "text": [
            "Square of 1 is 1\n",
            "Square of 2 is 4\n",
            "Square of 3 is 9\n",
            "Square of 4 is 16\n",
            "Square of 5 is 25\n"
          ]
        }
      ]
    },
    {
      "cell_type": "markdown",
      "source": [
        "**11.5 Adding and deleting from list**\n"
      ],
      "metadata": {
        "id": "0SpCHvAtwYpm"
      }
    },
    {
      "cell_type": "code",
      "source": [
        "L = [\"Keshav\",  'Karn', 34,  14 ]\n",
        "print (\"Original List       = \", L)\n",
        "\n",
        "L.append(\"Ujjwal\")\n",
        "print (\"List After Adding   = \", L)\n",
        "\n",
        "del L[1]\n",
        "print (\"List After Deleting = \", L)"
      ],
      "metadata": {
        "colab": {
          "base_uri": "https://localhost:8080/"
        },
        "id": "1yBdXIUgwf6I",
        "outputId": "56d355a0-6ab6-426c-bbfa-f8bae6649ea7"
      },
      "execution_count": 3,
      "outputs": [
        {
          "output_type": "stream",
          "name": "stdout",
          "text": [
            "Original List       =  ['Keshav', 'Karn', 34, 14]\n",
            "List After Adding   =  ['Keshav', 'Karn', 34, 14, 'Ujjwal']\n",
            "List After Deleting =  ['Keshav', 34, 14, 'Ujjwal']\n"
          ]
        }
      ]
    },
    {
      "cell_type": "markdown",
      "source": [
        "**11.6 Sum/Average of List**\n"
      ],
      "metadata": {
        "id": "4CmDBs9vw0CY"
      }
    },
    {
      "cell_type": "code",
      "source": [
        "L=[10, 20, 30, 45, 55, 65, 85]\n",
        "print (\"Original List = \", L)\n",
        "\n",
        "print (\"Sum     = \", sum(L))\n",
        "print (\"Average = \", sum(L)/len(L))\n",
        "print (\"Average = \", sum(L)//len(L))\n",
        "\n",
        "print (\"L * 3   = \", L * 3)\n",
        "print (\"L + L   = \", L + L)"
      ],
      "metadata": {
        "colab": {
          "base_uri": "https://localhost:8080/"
        },
        "id": "QZg0IfmfxG9x",
        "outputId": "eacc08f5-f783-4fa6-e973-143b99b6cb65"
      },
      "execution_count": 4,
      "outputs": [
        {
          "output_type": "stream",
          "name": "stdout",
          "text": [
            "Original List =  [10, 20, 30, 45, 55, 65, 85]\n",
            "Sum     =  310\n",
            "Average =  44.285714285714285\n",
            "Average =  44\n",
            "L * 3   =  [10, 20, 30, 45, 55, 65, 85, 10, 20, 30, 45, 55, 65, 85, 10, 20, 30, 45, 55, 65, 85]\n",
            "L + L   =  [10, 20, 30, 45, 55, 65, 85, 10, 20, 30, 45, 55, 65, 85]\n"
          ]
        }
      ]
    },
    {
      "cell_type": "markdown",
      "source": [
        "**11.7 Min/Max/Sort the list**\n"
      ],
      "metadata": {
        "id": "2kpvPxEcxnGR"
      }
    },
    {
      "cell_type": "code",
      "source": [
        "L=[5, 8, 7, 42, 85, 34, 42]\n",
        "print (\"Original List = \", L)\n",
        "\n",
        "print (\"max = \", max(L))\n",
        "print (\"min = \", min(L))\n",
        "\n",
        "print (\"\\nBefore Sort = \", L)\n",
        "L.sort()\n",
        "\n",
        "print (\"After Sort (Asending)  = \", L)\n",
        "\n",
        "L.sort(reverse=True)\n",
        "print (\"After Sort (Desending) = \", L)"
      ],
      "metadata": {
        "colab": {
          "base_uri": "https://localhost:8080/"
        },
        "id": "UrfeTexDxqdX",
        "outputId": "56086f51-f108-4b29-f32f-f389da2963f1"
      },
      "execution_count": 6,
      "outputs": [
        {
          "output_type": "stream",
          "name": "stdout",
          "text": [
            "Original List =  [5, 8, 7, 42, 85, 34, 42]\n",
            "max =  85\n",
            "min =  5\n",
            "\n",
            "Before Sort =  [5, 8, 7, 42, 85, 34, 42]\n",
            "After Sort (Asending)  =  [5, 7, 8, 34, 42, 42, 85]\n",
            "After Sort (Desending) =  [85, 42, 42, 34, 8, 7, 5]\n"
          ]
        }
      ]
    },
    {
      "cell_type": "markdown",
      "source": [
        "11.8 Merge lists and select elements\n"
      ],
      "metadata": {
        "id": "KkBvnuksyEhF"
      }
    },
    {
      "cell_type": "code",
      "source": [
        "A1 = [4, 8, 12]\n",
        "A2 = [1, 7, 5, 9]\n",
        "A3 = A1 + A2\n",
        "print(\"A1 --> \", A1)\n",
        "print(\"A2 --> \", A2)\n",
        "print(\"A3 --> \", A3)\n",
        "\n",
        "print(\"\\nA3[1:]  --> \", A3[1:])\n",
        "print(\"A3[1:4] --> \", A3[1:4])\n",
        "print(\"A3[:-2] --> \", A3[:-2])\n",
        "print(\"A3[::3] --> \", A3[::3])"
      ],
      "metadata": {
        "colab": {
          "base_uri": "https://localhost:8080/"
        },
        "id": "6Pp28I5UyGUL",
        "outputId": "7263dc26-278b-45cb-be25-ae036dbef6c2"
      },
      "execution_count": 19,
      "outputs": [
        {
          "output_type": "stream",
          "name": "stdout",
          "text": [
            "A1 -->  [4, 8, 12]\n",
            "A2 -->  [1, 7, 5, 9]\n",
            "A3 -->  [4, 8, 12, 1, 7, 5, 9]\n",
            "\n",
            "A3[1:]  -->  [8, 12, 1, 7, 5, 9]\n",
            "A3[1:4] -->  [8, 12, 1]\n",
            "A3[:-2] -->  [4, 8, 12, 1, 7]\n",
            "A3[::3] -->  [4, 1, 9]\n"
          ]
        }
      ]
    },
    {
      "cell_type": "markdown",
      "source": [
        "**11.9 Multiply all elements of the list by a constant**\n"
      ],
      "metadata": {
        "id": "eQycxMvq0K-0"
      }
    },
    {
      "cell_type": "code",
      "source": [
        "M = [10, 4, 6, 8, 3]\n",
        "print(\"Original List --> \", M)\n",
        "\n",
        "newM = [i + 3 for i in M]\n",
        "print(\"After Adding a constant --> \", newM)\n"
      ],
      "metadata": {
        "colab": {
          "base_uri": "https://localhost:8080/"
        },
        "id": "L4EW-yng0NSe",
        "outputId": "93a592be-8eac-4e2a-ad8f-24f49879f486"
      },
      "execution_count": 18,
      "outputs": [
        {
          "output_type": "stream",
          "name": "stdout",
          "text": [
            "Original List -->  [10, 4, 6, 8, 3]\n",
            "After Adding a constant -->  [13, 7, 9, 11, 6]\n"
          ]
        }
      ]
    },
    {
      "cell_type": "markdown",
      "source": [
        "**11.10 Searching in the list**\n"
      ],
      "metadata": {
        "id": "XJC0zZXq0Yex"
      }
    },
    {
      "cell_type": "code",
      "source": [
        "M = [8, 2, 5, 11, 9, 4, 7]\n",
        "print(\"Original List --> \", 5 in M)\n",
        "print(\"Original List --> \", 15 in M)\n",
        "print(\"Original List --> \", 8 in M)\n",
        "\n",
        "if (5 in M) == True:\n",
        "    print(\"Present\")\n",
        "else:\n",
        "    print(\"Not Present\")\n",
        "\n",
        "if 15 in M == False:\n",
        "    print(\"Not Present\")\n",
        "else:\n",
        "    print(\"Present\")\n"
      ],
      "metadata": {
        "colab": {
          "base_uri": "https://localhost:8080/"
        },
        "id": "AW4gqKKq0dQ-",
        "outputId": "6b0c3ddc-bb1b-4d88-a993-57f9df70a41c"
      },
      "execution_count": 17,
      "outputs": [
        {
          "output_type": "stream",
          "name": "stdout",
          "text": [
            "Original List -->  True\n",
            "Original List -->  False\n",
            "Original List -->  True\n",
            "Present\n",
            "Present\n"
          ]
        }
      ]
    },
    {
      "cell_type": "markdown",
      "source": [
        "**12.1 Declare Dictionary**\n"
      ],
      "metadata": {
        "id": "Yqeef99G0k13"
      }
    },
    {
      "cell_type": "code",
      "source": [
        "Grades = {101: 7.5, 102: 8.3, 103: 6.9, 105: 9.0, 108: 5.8}\n",
        "print(\"Dictionary      --> \", Grades)\n",
        "print(\"Num of elements --> \", len(Grades))\n",
        "\n",
        "print(\"Grade of 101    --> \", Grades[101])\n",
        "print(\"Grade of 103    --> \", Grades[103])\n",
        "print(\"Grade of 105    --> \", Grades[105])\n",
        "\n",
        "# Safely checking for a key to avoid KeyError\n",
        "key = 104\n",
        "if key in Grades:\n",
        "    print(f\"Grade of {key}    --> \", Grades[key])\n",
        "else:\n",
        "    print(f\"Grade of {key}    --> Key not found\")\n"
      ],
      "metadata": {
        "colab": {
          "base_uri": "https://localhost:8080/"
        },
        "id": "XGz7Vc6V0rjN",
        "outputId": "23a352db-1c41-4e3e-e166-686a07f0a6a2"
      },
      "execution_count": 16,
      "outputs": [
        {
          "output_type": "stream",
          "name": "stdout",
          "text": [
            "Dictionary      -->  {101: 7.5, 102: 8.3, 103: 6.9, 105: 9.0, 108: 5.8}\n",
            "Num of elements -->  5\n",
            "Grade of 101    -->  7.5\n",
            "Grade of 103    -->  6.9\n",
            "Grade of 105    -->  9.0\n",
            "Grade of 104    --> Key not found\n"
          ]
        }
      ]
    },
    {
      "cell_type": "markdown",
      "source": [
        "**12.2 Triverse dictionary**\n"
      ],
      "metadata": {
        "id": "AHfhpcI700o7"
      }
    },
    {
      "cell_type": "code",
      "source": [
        "Grades = {101: 7.5, 102: 8.3, 103: 6.9, 105: 9.0, 108: 5.8}\n",
        "for student_id in Grades:\n",
        "    print(\"Grade of\", student_id, \"-->\", Grades[student_id])\n"
      ],
      "metadata": {
        "colab": {
          "base_uri": "https://localhost:8080/"
        },
        "id": "H7qusgp105PX",
        "outputId": "66286c79-2582-4352-b3fa-70f009a9eec8"
      },
      "execution_count": 15,
      "outputs": [
        {
          "output_type": "stream",
          "name": "stdout",
          "text": [
            "Grade of 101 --> 7.5\n",
            "Grade of 102 --> 8.3\n",
            "Grade of 103 --> 6.9\n",
            "Grade of 105 --> 9.0\n",
            "Grade of 108 --> 5.8\n"
          ]
        }
      ]
    },
    {
      "cell_type": "markdown",
      "source": [
        "**12.3 Getting Keys and Values**"
      ],
      "metadata": {
        "id": "ZLcdQ0iY1B9_"
      }
    },
    {
      "cell_type": "code",
      "source": [
        "Grades = {101: 7.5, 102: 8.3, 103: 6.9, 105: 9.0, 108: 5.8}\n",
        "print(\"Dictionary --> \", Grades)\n",
        "print(\"Keys       --> \", list(Grades.keys()))\n",
        "print(\"Values     --> \", list(Grades.values()))"
      ],
      "metadata": {
        "colab": {
          "base_uri": "https://localhost:8080/"
        },
        "id": "SSxfpDI91HrD",
        "outputId": "c5d99ea8-f2bf-4b2a-c686-832d91a070db"
      },
      "execution_count": 14,
      "outputs": [
        {
          "output_type": "stream",
          "name": "stdout",
          "text": [
            "Dictionary -->  {101: 7.5, 102: 8.3, 103: 6.9, 105: 9.0, 108: 5.8}\n",
            "Keys       -->  [101, 102, 103, 105, 108]\n",
            "Values     -->  [7.5, 8.3, 6.9, 9.0, 5.8]\n"
          ]
        }
      ]
    },
    {
      "cell_type": "markdown",
      "source": [
        "**12.4 Updating, Adding and Deleting from Dictionary**\n"
      ],
      "metadata": {
        "id": "kazu5iJo1OIM"
      }
    },
    {
      "cell_type": "code",
      "source": [
        "Grades = {101: 7.5, 102: 8.3, 103: 6.9, 105: 9.0, 108: 5.8}\n",
        "print(\"Original Dictionary --> \", Grades)\n",
        "\n",
        "Grades[103] = 8.0\n",
        "print(\"After Updating (103) --> \", Grades)\n",
        "\n",
        "Grades[106] = 7.2\n",
        "print(\"After Adding (106)   --> \", Grades)\n",
        "\n",
        "del Grades[101]\n",
        "print(\"After Deleting (101) --> \", Grades)\n",
        "\n",
        "Grades.clear()\n",
        "print(\"After Clear          --> \", Grades)\n",
        "\n",
        "del Grades\n",
        "try:\n",
        "    print(\"After Delete         --> \", Grades)\n",
        "except NameError:\n",
        "    print(\"Grades dictionary no longer exists.\")\n"
      ],
      "metadata": {
        "colab": {
          "base_uri": "https://localhost:8080/"
        },
        "id": "KpAAm5kJ1SlI",
        "outputId": "75621013-f684-4996-ad14-0282ef1a664e"
      },
      "execution_count": 13,
      "outputs": [
        {
          "output_type": "stream",
          "name": "stdout",
          "text": [
            "Original Dictionary -->  {101: 7.5, 102: 8.3, 103: 6.9, 105: 9.0, 108: 5.8}\n",
            "After Updating (103) -->  {101: 7.5, 102: 8.3, 103: 8.0, 105: 9.0, 108: 5.8}\n",
            "After Adding (106)   -->  {101: 7.5, 102: 8.3, 103: 8.0, 105: 9.0, 108: 5.8, 106: 7.2}\n",
            "After Deleting (101) -->  {102: 8.3, 103: 8.0, 105: 9.0, 108: 5.8, 106: 7.2}\n",
            "After Clear          -->  {}\n",
            "Grades dictionary no longer exists.\n"
          ]
        }
      ]
    },
    {
      "cell_type": "markdown",
      "source": [
        "**12.5 Checking for Key in Dictionary**\n"
      ],
      "metadata": {
        "id": "HDvTWC6z1br8"
      }
    },
    {
      "cell_type": "code",
      "source": [
        "Grades = {101: 7.5, 102: 8.3, 103: 6.9, 105: 9.0, 108: 5.8}\n",
        "print(\"Original Dictionary --> \", Grades)\n",
        "print(\"Is Key 102 Present  --> \", 102 in Grades)\n",
        "print(\"Is Key 110 Present  --> \", 110 in Grades)"
      ],
      "metadata": {
        "colab": {
          "base_uri": "https://localhost:8080/"
        },
        "id": "eb1KY_-o1eo4",
        "outputId": "d7a488e7-0704-4de6-fa1f-742d06841c2c"
      },
      "execution_count": 12,
      "outputs": [
        {
          "output_type": "stream",
          "name": "stdout",
          "text": [
            "Original Dictionary -->  {101: 7.5, 102: 8.3, 103: 6.9, 105: 9.0, 108: 5.8}\n",
            "Is Key 102 Present  -->  True\n",
            "Is Key 110 Present  -->  False\n"
          ]
        }
      ]
    },
    {
      "cell_type": "markdown",
      "source": [
        "**13.1 Declare Tuple**\n"
      ],
      "metadata": {
        "id": "MH5R1eM71v5Y"
      }
    },
    {
      "cell_type": "code",
      "source": [
        "T = (\"Squid\", \"Game\", 2.71, 7)\n",
        "\n",
        "print(\"T               -->\", T)\n",
        "print(\"Num of elements -->\", len(T))\n",
        "print(\"Type of Object  -->\", type(T))\n"
      ],
      "metadata": {
        "colab": {
          "base_uri": "https://localhost:8080/"
        },
        "id": "zRkyFTjN10w-",
        "outputId": "28713ba4-7b37-4ff3-9c39-1b9165f49f3f"
      },
      "execution_count": 11,
      "outputs": [
        {
          "output_type": "stream",
          "name": "stdout",
          "text": [
            "T               --> ('Squid', 'Game', 2.71, 7)\n",
            "Num of elements --> 4\n",
            "Type of Object  --> <class 'tuple'>\n"
          ]
        }
      ]
    },
    {
      "cell_type": "markdown",
      "source": [
        "**13.2 Tuple Iteration**\n"
      ],
      "metadata": {
        "id": "yi5ge0ln2Hwl"
      }
    },
    {
      "cell_type": "code",
      "source": [
        "T = (\"John\", \"Wick\", 2.71, 7)\n",
        "print(\"T -->\", T)\n",
        "\n",
        "i = 0\n",
        "while i < len(T):\n",
        "    print(T[i])\n",
        "    i += 1"
      ],
      "metadata": {
        "colab": {
          "base_uri": "https://localhost:8080/"
        },
        "id": "ucgs_48_2K7R",
        "outputId": "cdce72b3-b27d-4551-ca57-42647f1f2841"
      },
      "execution_count": 10,
      "outputs": [
        {
          "output_type": "stream",
          "name": "stdout",
          "text": [
            "T --> ('John', 'Wick', 2.71, 7)\n",
            "John\n",
            "Wick\n",
            "2.71\n",
            "7\n"
          ]
        }
      ]
    },
    {
      "cell_type": "markdown",
      "source": [
        "**13.3 Tuple iteration using for loop**\n"
      ],
      "metadata": {
        "id": "q9Fliz7W2WbB"
      }
    },
    {
      "cell_type": "code",
      "source": [
        "T = (\"Bob\", \"Uncle\", 2.71, 8)\n",
        "print(\"T -->\", T)\n",
        "\n",
        "for i in range(0, len(T)):\n",
        "    print(T[i])\n"
      ],
      "metadata": {
        "colab": {
          "base_uri": "https://localhost:8080/"
        },
        "id": "VupvsaIX2WCD",
        "outputId": "81b9cef7-d7e7-4922-c8c9-5e88296abfce"
      },
      "execution_count": 9,
      "outputs": [
        {
          "output_type": "stream",
          "name": "stdout",
          "text": [
            "T --> ('Bob', 'Uncle', 2.71, 8)\n",
            "Bob\n",
            "Uncle\n",
            "2.71\n",
            "8\n"
          ]
        }
      ]
    },
    {
      "cell_type": "markdown",
      "source": [
        "**13.4 Tuple iteration using for loop**"
      ],
      "metadata": {
        "id": "aTomc8c92ler"
      }
    },
    {
      "cell_type": "code",
      "source": [
        "T = (\"Inception\", \"Avatar\", \"Titanic\", \"The Matrix\")\n",
        "print(\"T -->\", T)\n",
        "\n",
        "for movie in T:\n",
        "    print(movie)\n"
      ],
      "metadata": {
        "colab": {
          "base_uri": "https://localhost:8080/"
        },
        "id": "9G6eFJpZ2oWE",
        "outputId": "c116d309-26ed-4ebb-9df5-d33b6e761dd6"
      },
      "execution_count": 8,
      "outputs": [
        {
          "output_type": "stream",
          "name": "stdout",
          "text": [
            "T --> ('Inception', 'Avatar', 'Titanic', 'The Matrix')\n",
            "Inception\n",
            "Avatar\n",
            "Titanic\n",
            "The Matrix\n"
          ]
        }
      ]
    },
    {
      "cell_type": "markdown",
      "source": [
        "**13.5 Accessing/Selecting in Tuple**\n"
      ],
      "metadata": {
        "id": "4sxPfrld28AJ"
      }
    },
    {
      "cell_type": "code",
      "source": [
        "T = (2000, 2003, 2008, 2012, 2015, 2018)\n",
        "print(\"T     -->\", T)\n",
        "\n",
        "print(\"T[1]  -->\", T[1])\n",
        "print(\"T[2]  -->\", T[2])\n",
        "print(\"T[-1] -->\", T[-1])\n",
        "print(\"T[-2] -->\", T[-2])\n"
      ],
      "metadata": {
        "colab": {
          "base_uri": "https://localhost:8080/"
        },
        "id": "O7BZwLQs29yH",
        "outputId": "e5dd9d5d-07fa-4e9f-a40f-893166ffa2af"
      },
      "execution_count": 7,
      "outputs": [
        {
          "output_type": "stream",
          "name": "stdout",
          "text": [
            "T     --> (2000, 2003, 2008, 2012, 2015, 2018)\n",
            "T[1]  --> 2003\n",
            "T[2]  --> 2008\n",
            "T[-1] --> 2018\n",
            "T[-2] --> 2015\n"
          ]
        }
      ]
    },
    {
      "cell_type": "markdown",
      "source": [
        "**13.6 Sum/Average of Tuple**"
      ],
      "metadata": {
        "id": "7WwK5k7r34Vu"
      }
    },
    {
      "cell_type": "code",
      "source": [
        "T = (30, 32, 29, 31, 28, 35, 33)\n",
        "print(\"T       -->\", T)\n",
        "print(\"Sum     -->\", sum(T))\n",
        "print(\"Average -->\", sum(T)/len(T))\n",
        "print(\"Average (Integer) -->\", sum(T)//len(T))\n"
      ],
      "metadata": {
        "colab": {
          "base_uri": "https://localhost:8080/"
        },
        "id": "IoGhg_R336QE",
        "outputId": "9ecf92ed-e592-479b-d76f-6503e5c5c1a2"
      },
      "execution_count": 20,
      "outputs": [
        {
          "output_type": "stream",
          "name": "stdout",
          "text": [
            "T       --> (30, 32, 29, 31, 28, 35, 33)\n",
            "Sum     --> 218\n",
            "Average --> 31.142857142857142\n",
            "Average (Integer) --> 31\n"
          ]
        }
      ]
    },
    {
      "cell_type": "markdown",
      "source": [
        "**13.7 Min/Max in Tuple**"
      ],
      "metadata": {
        "id": "ndnMYl1x4ACH"
      }
    },
    {
      "cell_type": "code",
      "source": [
        "T = (\"India\", \"Australia\", \"Brazil\", \"Canada\")\n",
        "print(\"T   -->\", T)\n",
        "print(\"Max -->\", max(T))\n",
        "print(\"Min -->\", min(T))\n"
      ],
      "metadata": {
        "colab": {
          "base_uri": "https://localhost:8080/"
        },
        "id": "CKe_Dep-4GIX",
        "outputId": "7b3834cb-d3e9-4de4-bb4c-1b030f5f4b76"
      },
      "execution_count": 21,
      "outputs": [
        {
          "output_type": "stream",
          "name": "stdout",
          "text": [
            "T   --> ('India', 'Australia', 'Brazil', 'Canada')\n",
            "Max --> India\n",
            "Min --> Australia\n"
          ]
        }
      ]
    },
    {
      "cell_type": "markdown",
      "source": [
        "**13.8 Merging Tuples**\n"
      ],
      "metadata": {
        "id": "8ctQeYES4fUP"
      }
    },
    {
      "cell_type": "code",
      "source": [
        "T1 = (4, 7, 10)\n",
        "T2 = (15, 8, 4, 1)\n",
        "\n",
        "print(\"T1 -->\", T1)\n",
        "print(\"T2 -->\", T2)\n",
        "\n",
        "T3 = T1 + T2\n",
        "print(\"T3 -->\", T3)\n",
        "\n",
        "T4 = T1 + T2 + T1 + T2\n",
        "print(\"T4 -->\", T4)"
      ],
      "metadata": {
        "colab": {
          "base_uri": "https://localhost:8080/"
        },
        "id": "bieQN6c-4ib9",
        "outputId": "1401a881-ed96-4e85-ce1e-44dcb0f9de5e"
      },
      "execution_count": 22,
      "outputs": [
        {
          "output_type": "stream",
          "name": "stdout",
          "text": [
            "T1 --> (4, 7, 10)\n",
            "T2 --> (15, 8, 4, 1)\n",
            "T3 --> (4, 7, 10, 15, 8, 4, 1)\n",
            "T4 --> (4, 7, 10, 15, 8, 4, 1, 4, 7, 10, 15, 8, 4, 1)\n"
          ]
        }
      ]
    },
    {
      "cell_type": "markdown",
      "source": [
        "**13.9 Merging part of Tuples**\n"
      ],
      "metadata": {
        "id": "nfHDn63m4rBH"
      }
    },
    {
      "cell_type": "code",
      "source": [
        "T1 = (3, 6, 9)\n",
        "T2 = (12, 5, 3, 2)\n",
        "\n",
        "print (\"T1 -->\", T1)\n",
        "print (\"T2 -->\", T2)\n",
        "\n",
        "T3 = T1[1:2] + T2[1:3]\n",
        "print (\"T3 -->\", T3)\n",
        "\n",
        "T4 = T1[:-2] + T2[:-3]\n",
        "print (\"T4 -->\", T4)"
      ],
      "metadata": {
        "colab": {
          "base_uri": "https://localhost:8080/"
        },
        "id": "SjopDvrr4svD",
        "outputId": "9753a79e-24ea-4421-ffd8-52133aa5793f"
      },
      "execution_count": 23,
      "outputs": [
        {
          "output_type": "stream",
          "name": "stdout",
          "text": [
            "T1 --> (3, 6, 9)\n",
            "T2 --> (12, 5, 3, 2)\n",
            "T3 --> (6, 5, 3)\n",
            "T4 --> (3, 12)\n"
          ]
        }
      ]
    },
    {
      "cell_type": "markdown",
      "source": [
        "**13.10 Searching in the tuple**\n"
      ],
      "metadata": {
        "id": "cCxC45-Z4yq8"
      }
    },
    {
      "cell_type": "code",
      "source": [
        "T = (3, 6, 9, 12, 5, 3, 2)\n",
        "print (\"T       -->\", T)\n",
        "\n",
        "print (\"6  in T -->\", 6 in T)\n",
        "print (\"10 in T -->\", 10 in T)\n",
        "print (\"12 in T -->\", 12 in T)"
      ],
      "metadata": {
        "colab": {
          "base_uri": "https://localhost:8080/"
        },
        "id": "EGap-a6h40__",
        "outputId": "68841e02-87a5-4f34-b9a9-3683d963c532"
      },
      "execution_count": 24,
      "outputs": [
        {
          "output_type": "stream",
          "name": "stdout",
          "text": [
            "T       --> (3, 6, 9, 12, 5, 3, 2)\n",
            "6  in T --> True\n",
            "10 in T --> False\n",
            "12 in T --> True\n"
          ]
        }
      ]
    },
    {
      "cell_type": "markdown",
      "source": [
        "**13.12 Adding element to Tuple - (Jugaad)**\n"
      ],
      "metadata": {
        "id": "5uDIDWMo44RN"
      }
    },
    {
      "cell_type": "code",
      "source": [
        "T = (\"Alice\", \"Wonderland\", 2.71, 7)\n",
        "print(\"T         -->\", T)\n",
        "\n",
        "T1 = list(T)\n",
        "T1.append(5.5)\n",
        "T = tuple(T1)\n",
        "\n",
        "print(\"After Add -->\", T)\n"
      ],
      "metadata": {
        "colab": {
          "base_uri": "https://localhost:8080/"
        },
        "id": "vgoh8TwN5Dpb",
        "outputId": "90b76e4a-7eb8-411a-a9c3-38fb27704692"
      },
      "execution_count": 25,
      "outputs": [
        {
          "output_type": "stream",
          "name": "stdout",
          "text": [
            "T         --> ('Alice', 'Wonderland', 2.71, 7)\n",
            "After Add --> ('Alice', 'Wonderland', 2.71, 7, 5.5)\n"
          ]
        }
      ]
    },
    {
      "cell_type": "markdown",
      "source": [
        "**13.15 Deleting from Tuple - (Jugaad)**\n"
      ],
      "metadata": {
        "id": "XoWwVqyX5RHn"
      }
    },
    {
      "cell_type": "code",
      "source": [
        "T = (\"India\", \"Australia\", \"Brazil\", \"Canada\")\n",
        "print(\"T            -->\", T)\n",
        "\n",
        "T1 = list(T)\n",
        "del T1[1]  # Deleting the element at index 1\n",
        "T = tuple(T1)\n",
        "\n",
        "print(\"After Delete -->\", T)\n"
      ],
      "metadata": {
        "colab": {
          "base_uri": "https://localhost:8080/"
        },
        "id": "9TH-ovl25S29",
        "outputId": "11506969-1d85-47c4-cde0-cf2a18793da5"
      },
      "execution_count": 26,
      "outputs": [
        {
          "output_type": "stream",
          "name": "stdout",
          "text": [
            "T            --> ('India', 'Australia', 'Brazil', 'Canada')\n",
            "After Delete --> ('India', 'Brazil', 'Canada')\n"
          ]
        }
      ]
    },
    {
      "cell_type": "markdown",
      "source": [
        "**14.1 Declare Set**"
      ],
      "metadata": {
        "id": "Bzy4Quip5fLD"
      }
    },
    {
      "cell_type": "code",
      "source": [
        "s = set([1, 2, 3, 4, 2, 3])\n",
        "print(\"Original set           --> \", s)\n",
        "print(\"Num of elements in set --> \", len(s))\n"
      ],
      "metadata": {
        "colab": {
          "base_uri": "https://localhost:8080/"
        },
        "id": "YWm2G8wB5hcJ",
        "outputId": "93fea668-f3e4-467d-a645-ba829bda15b4"
      },
      "execution_count": 27,
      "outputs": [
        {
          "output_type": "stream",
          "name": "stdout",
          "text": [
            "Original set           -->  {1, 2, 3, 4}\n",
            "Num of elements in set -->  4\n"
          ]
        }
      ]
    },
    {
      "cell_type": "markdown",
      "source": [
        "**14.2 Opertions on Sets**\n"
      ],
      "metadata": {
        "id": "uZbcR5dG5mtV"
      }
    },
    {
      "cell_type": "code",
      "source": [
        "a = set([1, 2, 3, 4])\n",
        "b = set([3, 4, 5, 6])\n",
        "print(\"Original set a      --> \", a)\n",
        "print(\"Original set b      --> \", b)\n",
        "print(\"Union of a and b    --> \", a.union(b))\n",
        "print(\"Intersection of a,b --> \", a.intersection(b))\n",
        "print(\"Difference a - b    --> \", a - b)\n",
        "print(\"Difference a - b    --> \", a.difference(b))\n",
        "print(\"Difference b - a    --> \", b - a)\n",
        "print(\"Difference b - a    --> \", b.difference(a))\n",
        "print(\"Symmetric Diff a - b --> \", a.symmetric_difference(b))\n",
        "print(\"Symmetric Diff b - a --> \", b.symmetric_difference(a))\n"
      ],
      "metadata": {
        "colab": {
          "base_uri": "https://localhost:8080/"
        },
        "id": "oJbEDMXW5qU8",
        "outputId": "c9055d57-48c6-4454-d47a-8d8bf062fb85"
      },
      "execution_count": 28,
      "outputs": [
        {
          "output_type": "stream",
          "name": "stdout",
          "text": [
            "Original set a      -->  {1, 2, 3, 4}\n",
            "Original set b      -->  {3, 4, 5, 6}\n",
            "Union of a and b    -->  {1, 2, 3, 4, 5, 6}\n",
            "Intersection of a,b -->  {3, 4}\n",
            "Difference a - b    -->  {1, 2}\n",
            "Difference a - b    -->  {1, 2}\n",
            "Difference b - a    -->  {5, 6}\n",
            "Difference b - a    -->  {5, 6}\n",
            "Symmetric Diff a - b -->  {1, 2, 5, 6}\n",
            "Symmetric Diff b - a -->  {1, 2, 5, 6}\n"
          ]
        }
      ]
    },
    {
      "cell_type": "markdown",
      "source": [
        "**14.3 Add, delete, pop element from set**\n"
      ],
      "metadata": {
        "id": "GaGctn-f5z4u"
      }
    },
    {
      "cell_type": "code",
      "source": [
        "a = set(['A', 'B', 'E', 'F' ])\n",
        "print (\"Original set a       --> \", a)\n",
        "a.add(\"D\")\n",
        "print (\"Set After Adding (D) --> \", a)\n",
        "a.add(\"D\")\n",
        "print (\"Set After Adding (D) --> \", a)\n",
        "a.remove(\"D\")\n",
        "print (\"Set After Deleting(D)--> \", a)\n",
        "a.pop()\n",
        "print (\"Set After pop        --> \", a)\n",
        "a.pop()\n",
        "print (\"Set After pop        --> \", a)\n",
        ""
      ],
      "metadata": {
        "colab": {
          "base_uri": "https://localhost:8080/"
        },
        "id": "UIE5RkR251jU",
        "outputId": "2f0b8d04-9132-47af-cad8-597b0c7aaecb"
      },
      "execution_count": 29,
      "outputs": [
        {
          "output_type": "stream",
          "name": "stdout",
          "text": [
            "Original set a       -->  {'F', 'E', 'B', 'A'}\n",
            "Set After Adding (D) -->  {'F', 'B', 'A', 'D', 'E'}\n",
            "Set After Adding (D) -->  {'F', 'B', 'A', 'D', 'E'}\n",
            "Set After Deleting(D)-->  {'F', 'B', 'A', 'E'}\n",
            "Set After pop        -->  {'B', 'A', 'E'}\n",
            "Set After pop        -->  {'A', 'E'}\n"
          ]
        }
      ]
    },
    {
      "cell_type": "markdown",
      "source": [
        "**15.1 Add two numbers given at cmd line**\n"
      ],
      "metadata": {
        "id": "jIS5ABUp6B0U"
      }
    },
    {
      "cell_type": "code",
      "source": [
        "import sys\n",
        "\n",
        "if len(sys.argv) != 3:\n",
        "    print(\"Usage: python add_two_numbers.py <num1> <num2>\")\n",
        "    sys.exit(1)\n",
        "\n",
        "num1 = float(sys.argv[1])\n",
        "num2 = float(sys.argv[2])\n",
        "\n",
        "result = num1 + num2\n",
        "\n",
        "print(f\"{num1} + {num2} = {result}\")\n"
      ],
      "metadata": {
        "colab": {
          "base_uri": "https://localhost:8080/",
          "height": 211
        },
        "id": "tl0NF7i96Gn9",
        "outputId": "0e4cab0b-067f-4f80-f7a4-3ddf048d0862"
      },
      "execution_count": 32,
      "outputs": [
        {
          "output_type": "error",
          "ename": "ValueError",
          "evalue": "could not convert string to float: '-f'",
          "traceback": [
            "\u001b[0;31m---------------------------------------------------------------------------\u001b[0m",
            "\u001b[0;31mValueError\u001b[0m                                Traceback (most recent call last)",
            "\u001b[0;32m<ipython-input-32-61176a810220>\u001b[0m in \u001b[0;36m<cell line: 0>\u001b[0;34m()\u001b[0m\n\u001b[1;32m      5\u001b[0m     \u001b[0msys\u001b[0m\u001b[0;34m.\u001b[0m\u001b[0mexit\u001b[0m\u001b[0;34m(\u001b[0m\u001b[0;36m1\u001b[0m\u001b[0;34m)\u001b[0m\u001b[0;34m\u001b[0m\u001b[0;34m\u001b[0m\u001b[0m\n\u001b[1;32m      6\u001b[0m \u001b[0;34m\u001b[0m\u001b[0m\n\u001b[0;32m----> 7\u001b[0;31m \u001b[0mnum1\u001b[0m \u001b[0;34m=\u001b[0m \u001b[0mfloat\u001b[0m\u001b[0;34m(\u001b[0m\u001b[0msys\u001b[0m\u001b[0;34m.\u001b[0m\u001b[0margv\u001b[0m\u001b[0;34m[\u001b[0m\u001b[0;36m1\u001b[0m\u001b[0;34m]\u001b[0m\u001b[0;34m)\u001b[0m\u001b[0;34m\u001b[0m\u001b[0;34m\u001b[0m\u001b[0m\n\u001b[0m\u001b[1;32m      8\u001b[0m \u001b[0mnum2\u001b[0m \u001b[0;34m=\u001b[0m \u001b[0mfloat\u001b[0m\u001b[0;34m(\u001b[0m\u001b[0msys\u001b[0m\u001b[0;34m.\u001b[0m\u001b[0margv\u001b[0m\u001b[0;34m[\u001b[0m\u001b[0;36m2\u001b[0m\u001b[0;34m]\u001b[0m\u001b[0;34m)\u001b[0m\u001b[0;34m\u001b[0m\u001b[0;34m\u001b[0m\u001b[0m\n\u001b[1;32m      9\u001b[0m \u001b[0;34m\u001b[0m\u001b[0m\n",
            "\u001b[0;31mValueError\u001b[0m: could not convert string to float: '-f'"
          ]
        }
      ]
    },
    {
      "cell_type": "markdown",
      "source": [
        "**15.2 Concatinate two strings given at cmd line**\n"
      ],
      "metadata": {
        "id": "Kf7pomik6WHD"
      }
    },
    {
      "cell_type": "code",
      "source": [
        "import sys\n",
        "print(sys.argv)  # Prints the list of command-line arguments\n",
        "\n",
        "s = sys.argv[1] + \" \" + sys.argv[2]  # Concatenating the two arguments with a space\n",
        "print(sys.argv[1], \" + \", sys.argv[2], \" --> \", s)\n"
      ],
      "metadata": {
        "colab": {
          "base_uri": "https://localhost:8080/"
        },
        "id": "uttFfDsi6Xvh",
        "outputId": "3f4c38e3-1601-4fe8-cf9a-a0695625733b"
      },
      "execution_count": 31,
      "outputs": [
        {
          "output_type": "stream",
          "name": "stdout",
          "text": [
            "['/usr/local/lib/python3.11/dist-packages/colab_kernel_launcher.py', '-f', '/root/.local/share/jupyter/runtime/kernel-acd47d35-8d58-4c50-9558-72295e898151.json']\n",
            "-f  +  /root/.local/share/jupyter/runtime/kernel-acd47d35-8d58-4c50-9558-72295e898151.json  -->  -f /root/.local/share/jupyter/runtime/kernel-acd47d35-8d58-4c50-9558-72295e898151.json\n"
          ]
        }
      ]
    },
    {
      "cell_type": "markdown",
      "source": [
        "**15.3 Add all the numbers given at cmd line**\n"
      ],
      "metadata": {
        "id": "YS3F96WG632b"
      }
    },
    {
      "cell_type": "code",
      "source": [
        "\n",
        "import sys\n",
        "print (sys.argv)\n",
        "sum=0\n",
        "for s in sys.argv[1:]:\n",
        "\tsum += int(s)\n",
        "\n",
        "print (\"Sum is --> \", sum)"
      ],
      "metadata": {
        "colab": {
          "base_uri": "https://localhost:8080/",
          "height": 228
        },
        "id": "-Y3VpOup69-Z",
        "outputId": "512312a9-ac69-4dde-ca8b-e91158be76f1"
      },
      "execution_count": 33,
      "outputs": [
        {
          "output_type": "stream",
          "name": "stdout",
          "text": [
            "['/usr/local/lib/python3.11/dist-packages/colab_kernel_launcher.py', '-f', '/root/.local/share/jupyter/runtime/kernel-acd47d35-8d58-4c50-9558-72295e898151.json']\n"
          ]
        },
        {
          "output_type": "error",
          "ename": "ValueError",
          "evalue": "invalid literal for int() with base 10: '-f'",
          "traceback": [
            "\u001b[0;31m---------------------------------------------------------------------------\u001b[0m",
            "\u001b[0;31mValueError\u001b[0m                                Traceback (most recent call last)",
            "\u001b[0;32m<ipython-input-33-87063e0e9afe>\u001b[0m in \u001b[0;36m<cell line: 0>\u001b[0;34m()\u001b[0m\n\u001b[1;32m      3\u001b[0m \u001b[0msum\u001b[0m\u001b[0;34m=\u001b[0m\u001b[0;36m0\u001b[0m\u001b[0;34m\u001b[0m\u001b[0;34m\u001b[0m\u001b[0m\n\u001b[1;32m      4\u001b[0m \u001b[0;32mfor\u001b[0m \u001b[0ms\u001b[0m \u001b[0;32min\u001b[0m \u001b[0msys\u001b[0m\u001b[0;34m.\u001b[0m\u001b[0margv\u001b[0m\u001b[0;34m[\u001b[0m\u001b[0;36m1\u001b[0m\u001b[0;34m:\u001b[0m\u001b[0;34m]\u001b[0m\u001b[0;34m:\u001b[0m\u001b[0;34m\u001b[0m\u001b[0;34m\u001b[0m\u001b[0m\n\u001b[0;32m----> 5\u001b[0;31m         \u001b[0msum\u001b[0m \u001b[0;34m+=\u001b[0m \u001b[0mint\u001b[0m\u001b[0;34m(\u001b[0m\u001b[0ms\u001b[0m\u001b[0;34m)\u001b[0m\u001b[0;34m\u001b[0m\u001b[0;34m\u001b[0m\u001b[0m\n\u001b[0m\u001b[1;32m      6\u001b[0m \u001b[0;34m\u001b[0m\u001b[0m\n\u001b[1;32m      7\u001b[0m \u001b[0mprint\u001b[0m \u001b[0;34m(\u001b[0m\u001b[0;34m\"Sum is --> \"\u001b[0m\u001b[0;34m,\u001b[0m \u001b[0msum\u001b[0m\u001b[0;34m)\u001b[0m\u001b[0;34m\u001b[0m\u001b[0;34m\u001b[0m\u001b[0m\n",
            "\u001b[0;31mValueError\u001b[0m: invalid literal for int() with base 10: '-f'"
          ]
        }
      ]
    },
    {
      "cell_type": "markdown",
      "source": [
        "**16.1 Writing 1 to 10 in file**\n"
      ],
      "metadata": {
        "id": "mz76XbIo7Ei_"
      }
    },
    {
      "cell_type": "code",
      "source": [
        "fp = open('result.txt', 'w')\n",
        "for i in range(1, 11):\n",
        "    fp.write(str(i) + \"\\n\")\n",
        "fp.close()\n",
        "\n",
        "print(\"Writing done !! \\nOpen result.txt to view the content\")\n"
      ],
      "metadata": {
        "colab": {
          "base_uri": "https://localhost:8080/"
        },
        "id": "TcuQdnra7F8Z",
        "outputId": "8a3cb267-2403-42c8-bf45-b4256a23d8a8"
      },
      "execution_count": 34,
      "outputs": [
        {
          "output_type": "stream",
          "name": "stdout",
          "text": [
            "Writing done !! \n",
            "Open result.txt to view the content\n"
          ]
        }
      ]
    },
    {
      "cell_type": "markdown",
      "source": [
        "**16.2 Read a file and print its content**\n"
      ],
      "metadata": {
        "id": "1WVl9AtD7Mqv"
      }
    },
    {
      "cell_type": "code",
      "source": [
        "fp = open('result.txt')\n",
        "lines = fp.readlines()\n",
        "for line in lines:\n",
        "    print(line.strip())\n",
        "fp.close()\n"
      ],
      "metadata": {
        "colab": {
          "base_uri": "https://localhost:8080/"
        },
        "id": "Tg3zS5fe7RH6",
        "outputId": "d0244847-73f3-444f-b3d3-6f20ffbf5676"
      },
      "execution_count": 35,
      "outputs": [
        {
          "output_type": "stream",
          "name": "stdout",
          "text": [
            "1\n",
            "2\n",
            "3\n",
            "4\n",
            "5\n",
            "6\n",
            "7\n",
            "8\n",
            "9\n",
            "10\n"
          ]
        }
      ]
    },
    {
      "cell_type": "markdown",
      "source": [
        "**16.3 Read from one file, Convert it to upper case and write to other file**\n"
      ],
      "metadata": {
        "id": "IDxWVuff7gOO"
      }
    },
    {
      "cell_type": "code",
      "source": [
        "Readfp = open('result.txt')\n",
        "Writefp = open('abc.txt', 'w')\n",
        "\n",
        "for line in Readfp:\n",
        "    Writefp.write(line.upper())\n",
        "\n",
        "Writefp.close()\n",
        "Readfp.close()\n",
        "\n",
        "print(\"Writing done !! \\nOpen abc.txt to view the content\")\n"
      ],
      "metadata": {
        "colab": {
          "base_uri": "https://localhost:8080/"
        },
        "id": "AgZ01BkM7ih0",
        "outputId": "90b30823-7ccc-4526-ada1-fe0f64f804cc"
      },
      "execution_count": 36,
      "outputs": [
        {
          "output_type": "stream",
          "name": "stdout",
          "text": [
            "Writing done !! \n",
            "Open abc.txt to view the content\n"
          ]
        }
      ]
    }
  ]
}