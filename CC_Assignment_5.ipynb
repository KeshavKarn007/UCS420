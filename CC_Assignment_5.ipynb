{
  "nbformat": 4,
  "nbformat_minor": 0,
  "metadata": {
    "colab": {
      "provenance": [],
      "authorship_tag": "ABX9TyOmSRkuhaxKXk2OJnnALY8Z"
    },
    "kernelspec": {
      "name": "python3",
      "display_name": "Python 3"
    },
    "language_info": {
      "name": "python"
    }
  },
  "cells": [
    {
      "cell_type": "markdown",
      "source": [
        "Q.1 For the array gfg = np.matrix('[4, 1, 9; 12, 3, 1; 4, 5, 6]'), Find\n",
        "i. Sum of all elements\n",
        "ii. Sum of all elements row-wise\n",
        "iii. Sum of all elements column-wise"
      ],
      "metadata": {
        "id": "4UGYHWiQ2jyR"
      }
    },
    {
      "cell_type": "code",
      "execution_count": 2,
      "metadata": {
        "colab": {
          "base_uri": "https://localhost:8080/"
        },
        "id": "3ojQOcK22iSW",
        "outputId": "ffe73d83-4e2d-4756-da3a-6ef7e566b18f"
      },
      "outputs": [
        {
          "output_type": "stream",
          "name": "stdout",
          "text": [
            "45\n",
            "[14 16 15]\n",
            "[20  9 16]\n"
          ]
        }
      ],
      "source": [
        "import numpy as np\n",
        "gfg = np.matrix('4 1 9; 12 3 1; 4 5 6')\n",
        "print(gfg.sum(), gfg.sum(axis=1).A1, gfg.sum(axis=0).A1, sep='\\n')"
      ]
    },
    {
      "cell_type": "markdown",
      "source": [
        "Q.2 (a)For the array: array = np.array([10, 52, 62, 16, 16, 54, 453]), find\n",
        "i. Sorted array\n",
        "ii. Indices of sorted array\n",
        "iii. 4 smallest elements\n",
        "iv. 5 largest elements\n",
        "(b) For the array: array = np.array([1.0, 1.2, 2.2, 2.0, 3.0, 2.0]), find\n",
        "i. Integer elements only\n",
        "ii. Float elements only"
      ],
      "metadata": {
        "id": "1yK3WsEs3Ec9"
      }
    },
    {
      "cell_type": "code",
      "source": [
        "import numpy as np\n",
        "\n",
        "# Part (a)\n",
        "array = np.array([10, 52, 62, 16, 16, 54, 453])\n",
        "sorted_array = np.sort(array)\n",
        "sorted_indices = np.argsort(array)\n",
        "smallest_4 = np.sort(array)[:4]\n",
        "largest_5 = np.sort(array)[-5:]\n",
        "\n",
        "print(sorted_array, sorted_indices, smallest_4, largest_5, sep='\\n')\n",
        "\n",
        "# Part (b)\n",
        "array = np.array([1.0, 1.2, 2.2, 2.0, 3.0, 2.0])\n",
        "int_elements = array[array == array.astype(int)]\n",
        "float_elements = array[array != array.astype(int)]\n",
        "\n",
        "print(int_elements, float_elements, sep='\\n')"
      ],
      "metadata": {
        "colab": {
          "base_uri": "https://localhost:8080/"
        },
        "id": "3W5t_RTd3HUL",
        "outputId": "0b6788a0-8f82-430f-cdc5-69dc174b0684"
      },
      "execution_count": 3,
      "outputs": [
        {
          "output_type": "stream",
          "name": "stdout",
          "text": [
            "[ 10  16  16  52  54  62 453]\n",
            "[0 3 4 1 5 2 6]\n",
            "[10 16 16 52]\n",
            "[ 16  52  54  62 453]\n",
            "[1. 2. 3. 2.]\n",
            "[1.2 2.2]\n"
          ]
        }
      ]
    },
    {
      "cell_type": "markdown",
      "source": [
        "Q.3 You are given a weekly sales dataset and need to perform various operations\n",
        "using NumPy broadcasting.\n",
        "a) Generate your unique sales dataset:\n",
        " Take the sum of the ASCII values of the initials of your first and last\n",
        "name. Call this value X. (If your initials are A B → ASCII sum = 65\n",
        "+ 66 = 131 → sales = [131, 181, 231, 281, 331].)\n",
        " Create a NumPy array sales with values [X, X+50, X+100, X+150,\n",
        "X+200].\n",
        "\n",
        "b) Compute your personalized tax rate as ((X % 5) + 5) / 100.\n",
        " Use broadcasting to apply this tax rate to each sales value.\n",
        "c) Adjust sales based on discount:\n",
        " If sales < X+100, apply a 5% discount.\n",
        " If sales >= X+100, apply a 10% discount.\n",
        "d) Expand sales data for multiple weeks:\n",
        " Create a 3×5 matrix representing three weeks of sales by stacking\n",
        "sales three times using broadcasting.\n",
        " Increase sales by 2% per week using element-wise broadcasting."
      ],
      "metadata": {
        "id": "ShuLUwKZ3lOv"
      }
    },
    {
      "cell_type": "code",
      "source": [
        "import numpy as np\n",
        "\n",
        "# Part (a)\n",
        "X = sum(map(ord, \"YourInitials\"))  # Replace \"YourInitials\" with your actual initials\n",
        "sales = np.array([X, X+50, X+100, X+150, X+200])\n",
        "\n",
        "# Part (b)\n",
        "tax_rate = ((X % 5) + 5) / 100\n",
        "sales_after_tax = sales * (1 + tax_rate)\n",
        "\n",
        "# Part (c)\n",
        "discounts = np.where(sales < X+100, 0.95, 0.90)\n",
        "sales_after_discount = sales * discounts\n",
        "\n",
        "# Part (d)\n",
        "sales_matrix = np.tile(sales, (3, 1)) * (1.02 ** np.arange(3)[:, None])\n",
        "\n",
        "print(sales, sales_after_tax, sales_after_discount, sales_matrix, sep='\\n\\n')\n"
      ],
      "metadata": {
        "colab": {
          "base_uri": "https://localhost:8080/"
        },
        "id": "OVfzwlbT3kZa",
        "outputId": "7d950e6f-759d-476c-835e-a1cfde47d665"
      },
      "execution_count": 4,
      "outputs": [
        {
          "output_type": "stream",
          "name": "stdout",
          "text": [
            "[1260 1310 1360 1410 1460]\n",
            "\n",
            "[1323.  1375.5 1428.  1480.5 1533. ]\n",
            "\n",
            "[1197.  1244.5 1224.  1269.  1314. ]\n",
            "\n",
            "[[1260.    1310.    1360.    1410.    1460.   ]\n",
            " [1285.2   1336.2   1387.2   1438.2   1489.2  ]\n",
            " [1310.904 1362.924 1414.944 1466.964 1518.984]]\n"
          ]
        }
      ]
    },
    {
      "cell_type": "markdown",
      "source": [
        "Q4. Generate x values using np.linspace() from -10 to 10 with 100 points. Use\n",
        "each function from the list below and compute y values using NumPy:\n",
        " Y = x2\n",
        " Y = sin(x)\n",
        " Y = ex\n",
        " Y = log(|x| + 1)\n",
        "Plot the chosen function using Matplotlib. Add title, labels, and grid for clarity."
      ],
      "metadata": {
        "id": "lLtfkw3M3zCt"
      }
    },
    {
      "cell_type": "code",
      "source": [
        "import numpy as np\n",
        "import matplotlib.pyplot as plt\n",
        "\n",
        "x = np.linspace(-10, 10, 100)\n",
        "y1, y2, y3, y4 = x**2, np.sin(x), np.exp(x), np.log(np.abs(x) + 1)\n",
        "\n",
        "plt.figure(figsize=(10, 6))\n",
        "plt.plot(x, y1, label=r'$y = x^2$')\n",
        "plt.plot(x, y2, label=r'$y = \\sin(x)$')\n",
        "plt.plot(x, y3, label=r'$y = e^x$')\n",
        "plt.plot(x, y4, label=r'$y = \\log(|x| + 1)$')\n",
        "\n",
        "plt.title(\"Mathematical Functions\")\n",
        "plt.xlabel(\"X values\")\n",
        "plt.ylabel(\"Y values\")\n",
        "plt.legend()\n",
        "plt.grid(True)\n",
        "plt.show()\n"
      ],
      "metadata": {
        "colab": {
          "base_uri": "https://localhost:8080/",
          "height": 564
        },
        "id": "EOPUzh1c3zni",
        "outputId": "f5466eb4-39af-4f9b-8a94-3fa51852a5e3"
      },
      "execution_count": 5,
      "outputs": [
        {
          "output_type": "display_data",
          "data": {
            "text/plain": [
              "<Figure size 1000x600 with 1 Axes>"
            ],
            "image/png": "[encoded data removed]"
          },
          "metadata": {}
        }
      ]
    }
  ]
}